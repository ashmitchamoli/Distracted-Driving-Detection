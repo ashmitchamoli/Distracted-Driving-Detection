{
 "cells": [
  {
   "cell_type": "markdown",
   "metadata": {},
   "source": [
    "# Load your dataset\n",
    "\n",
    "Example data for one frame:\n",
    "```\n",
    "{\n",
    "    \"./sampledFrames/test_video/13260.jpg\": \n",
    "    {\n",
    "        \"subject\": [\"man\", \"man\", \"glass\", \"window\", \"man\"], \n",
    "        \"relation\": [\"wearing\", \"wearing\", \"on\", \"on\", \"has\"], \n",
    "        \"object\": [\"glass\", \"shirt\", \"face\", \"car\", \"hair\"], \n",
    "        \"triplet\": [\"man wearing glass\", \"man wearing shirt\", \"glass on face\", \"window on car\", \"man has hair\"]\n",
    "    }\n",
    "}\n",
    "```"
   ]
  },
  {
   "cell_type": "code",
   "execution_count": 2,
   "metadata": {},
   "outputs": [
    {
     "name": "stderr",
     "output_type": "stream",
     "text": [
      "/home/ashmitchamoli/.local/lib/python3.11/site-packages/tqdm/auto.py:21: TqdmWarning: IProgress not found. Please update jupyter and ipywidgets. See https://ipywidgets.readthedocs.io/en/stable/user_install.html\n",
      "  from .autonotebook import tqdm as notebook_tqdm\n"
     ]
    },
    {
     "name": "stdout",
     "output_type": "stream",
     "text": [
      "Data(x=[9, 1], edge_index=[2, 8], edge_attr=[8, 1], num_nodes=9, num_features=1)\n",
      "==============================================================\n",
      "Number of nodes: 9\n",
      "Number of edges: 8\n",
      "Average node degree: 0.89\n",
      "Has isolated nodes: False\n",
      "Has self-loops: False\n",
      "Is undirected: False\n",
      "tensor([[0, 0, 1, 0, 0, 2, 0, 3],\n",
      "        [4, 3, 5, 1, 6, 7, 5, 8]])\n",
      "tensor([[0],\n",
      "        [1],\n",
      "        [2],\n",
      "        [0],\n",
      "        [1],\n",
      "        [2],\n",
      "        [1],\n",
      "        [2]])\n"
     ]
    }
   ],
   "source": [
    "import pandas as pd\n",
    "import torch\n",
    "from torch_geometric.data import Data\n",
    "import matplotlib.pyplot as plt\n",
    "import numpy as np\n",
    "\n",
    "import lib.driving_dataset.DrivingDataset as DrivingDataset\n",
    "import lib.driving_dataset.Preprocessor as Preproc\n",
    "\n",
    "import importlib\n",
    "importlib.reload(DrivingDataset)\n",
    "importlib.reload(Preproc)\n",
    "\n",
    "preproc = Preproc.Preprocessor()\n",
    "\n",
    "dataset = preproc.loadSceneGraphData('test_video', split='test')\n",
    "data = dataset.iloc[0, 0]\n",
    "print(data)\n",
    "print('==============================================================')\n",
    "print(f'Number of nodes: {data.num_nodes}')\n",
    "print(f'Number of edges: {data.num_edges}')\n",
    "print(f'Average node degree: {data.num_edges / data.num_nodes:.2f}')\n",
    "print(f'Has isolated nodes: {data.has_isolated_nodes()}')\n",
    "print(f'Has self-loops: {data.has_self_loops()}')\n",
    "print(f'Is undirected: {data.is_undirected()}')\n",
    "print(data.edge_index)\n",
    "print(data.edge_attr)"
   ]
  },
  {
   "cell_type": "code",
   "execution_count": 3,
   "metadata": {},
   "outputs": [],
   "source": [
    "# sceneGraphData = preproc.loadSceneGraphData('test_video', split='test')\n",
    "# sceneGraphData"
   ]
  },
  {
   "cell_type": "code",
   "execution_count": 4,
   "metadata": {},
   "outputs": [],
   "source": [
    "# imageEmbeddingData = preproc.loadImageEmbeddings('test_video', split='test')\n",
    "# imageEmbeddingData"
   ]
  },
  {
   "cell_type": "code",
   "execution_count": 5,
   "metadata": {},
   "outputs": [],
   "source": [
    "# preproc.loadAllData('test_video', split='test')"
   ]
  },
  {
   "cell_type": "code",
   "execution_count": 6,
   "metadata": {},
   "outputs": [],
   "source": [
    "# drivingDataset = DrivingDataset.DrivingDataset('test_video', split='dev')\n",
    "# i = np.random.randint(0, len(drivingDataset))"
   ]
  },
  {
   "cell_type": "code",
   "execution_count": 7,
   "metadata": {},
   "outputs": [],
   "source": [
    "# print(f\"Embedding Size: {drivingDataset.imageEmbeddingSize}\")\n",
    "# drivingDataset[0]"
   ]
  },
  {
   "cell_type": "code",
   "execution_count": 8,
   "metadata": {},
   "outputs": [],
   "source": [
    "# from torch_geometric.utils import to_networkx\n",
    "# import networkx as nx\n",
    "\n",
    "# sceneGraph = dataset.iloc[0, 0]\n",
    "\n",
    "# def visualize_graph(G, color, nodeLabel, edgeLabels):\n",
    "#     plt.figure(figsize=(7,7))\n",
    "#     plt.xticks([])\n",
    "#     plt.yticks([])\n",
    "#     pos = nx.spring_layout(G)\n",
    "#     nx.draw_networkx(G, pos=pos, with_labels=False,\n",
    "#                      node_color=color, cmap=\"Set2\", node_size=1000, )\n",
    "#     # write labels on edges\n",
    "#     nx.draw_networkx_edge_labels(G, pos, edge_labels=edgeLabels)\n",
    "    \n",
    "#     # write labels on nodes\n",
    "#     for k, v in pos.items():\n",
    "#         plt.text(v[0], v[1], s=nodeLabel[k],\n",
    "#                  horizontalalignment='center', fontsize=10)\n",
    "#     plt.show()\n",
    "\n",
    "# G = to_networkx(sceneGraph, \n",
    "#                 to_undirected=False)\n",
    "\n",
    "# print(sceneGraph.edgeAttributeIndex)\n",
    "# visualize_graph(G,\n",
    "#                 color=data.y, \n",
    "#                 nodeLabel={sceneGraph.nodeIndex[k]: k for k in sceneGraph.nodeIndex},\n",
    "#                 edgeLabels=dict([((n1, n2), {v : k for k, v in sceneGraph.edgeAttributeIndex.items()}[int(k[0])]) for k, (n1, n2) in zip(sceneGraph.edge_attr, G.edges)]))"
   ]
  },
  {
   "cell_type": "markdown",
   "metadata": {},
   "source": [
    "# GNN"
   ]
  },
  {
   "cell_type": "code",
   "execution_count": 9,
   "metadata": {},
   "outputs": [
    {
     "name": "stdout",
     "output_type": "stream",
     "text": [
      "GNN(\n",
      "  (convLayers): Sequential(\n",
      "    (0): GCNConv(1, 2)\n",
      "  )\n",
      "  (conv1): GCNConv(1, 2)\n",
      "  (nodeAggregator): MeanAggregation()\n",
      "  (activation): Tanh()\n",
      ")\n",
      "tensor([[0.5634, 0.7255]], grad_fn=<DivBackward0>)\n"
     ]
    }
   ],
   "source": [
    "import lib.models.GNN as GNN\n",
    "importlib.reload(GNN)\n",
    "\n",
    "model = GNN.GNN(dataset.iloc[0, 0].num_features, embeddingSize=2)\n",
    "print(model)\n",
    "\n",
    "i = np.random.randint(0, len(dataset.index))\n",
    "\n",
    "graphEmbedding = model(dataset.iloc[i, 0].x, dataset.iloc[i, 0].edge_index)\n",
    "\n",
    "# graph_embedding = scatter_mean(h, dataset.batch, dim=0)\n",
    "print(graphEmbedding)"
   ]
  },
  {
   "cell_type": "code",
   "execution_count": 10,
   "metadata": {},
   "outputs": [],
   "source": [
    "trainDataset = DrivingDataset.DrivingDataset('test_video', split='train')\n",
    "devDataset = DrivingDataset.DrivingDataset('test_video', split='dev')"
   ]
  },
  {
   "cell_type": "code",
   "execution_count": 12,
   "metadata": {},
   "outputs": [
    {
     "name": "stderr",
     "output_type": "stream",
     "text": [
      "Training: 100%|██████████| 6289/6289 [00:35<00:00, 175.89it/s]\n"
     ]
    },
    {
     "name": "stdout",
     "output_type": "stream",
     "text": [
      "Epoch 1 | Train loss: 2.890175 | Dev loss: 2.886020 | Train accuracy: 0.066 | Dev accuracy: 0.056\n"
     ]
    },
    {
     "name": "stderr",
     "output_type": "stream",
     "text": [
      "Training: 100%|██████████| 6289/6289 [00:36<00:00, 174.50it/s]\n"
     ]
    },
    {
     "name": "stdout",
     "output_type": "stream",
     "text": [
      "Epoch 2 | Train loss: 2.885926 | Dev loss: 2.882769 | Train accuracy: 0.066 | Dev accuracy: 0.072\n"
     ]
    },
    {
     "name": "stderr",
     "output_type": "stream",
     "text": [
      "Training: 100%|██████████| 6289/6289 [00:34<00:00, 179.96it/s]\n"
     ]
    },
    {
     "name": "stdout",
     "output_type": "stream",
     "text": [
      "Epoch 3 | Train loss: 2.885214 | Dev loss: 2.878838 | Train accuracy: 0.066 | Dev accuracy: 0.072\n"
     ]
    },
    {
     "name": "stderr",
     "output_type": "stream",
     "text": [
      "Training: 100%|██████████| 6289/6289 [00:35<00:00, 179.40it/s]\n"
     ]
    },
    {
     "name": "stdout",
     "output_type": "stream",
     "text": [
      "Epoch 4 | Train loss: 2.883824 | Dev loss: 2.878186 | Train accuracy: 0.066 | Dev accuracy: 0.070\n"
     ]
    },
    {
     "name": "stderr",
     "output_type": "stream",
     "text": [
      "Training: 100%|██████████| 6289/6289 [00:35<00:00, 178.49it/s]\n"
     ]
    },
    {
     "name": "stdout",
     "output_type": "stream",
     "text": [
      "Epoch 5 | Train loss: 2.883105 | Dev loss: 2.877410 | Train accuracy: 0.064 | Dev accuracy: 0.067\n"
     ]
    },
    {
     "name": "stderr",
     "output_type": "stream",
     "text": [
      "Training: 100%|██████████| 6289/6289 [00:35<00:00, 176.78it/s]\n"
     ]
    },
    {
     "name": "stdout",
     "output_type": "stream",
     "text": [
      "Epoch 6 | Train loss: 2.881484 | Dev loss: 2.875496 | Train accuracy: 0.066 | Dev accuracy: 0.071\n"
     ]
    },
    {
     "name": "stderr",
     "output_type": "stream",
     "text": [
      "Training: 100%|██████████| 6289/6289 [00:35<00:00, 177.86it/s]\n"
     ]
    },
    {
     "name": "stdout",
     "output_type": "stream",
     "text": [
      "Epoch 7 | Train loss: 2.872488 | Dev loss: 2.874932 | Train accuracy: 0.093 | Dev accuracy: 0.094\n"
     ]
    },
    {
     "name": "stderr",
     "output_type": "stream",
     "text": [
      "Training: 100%|██████████| 6289/6289 [00:35<00:00, 176.91it/s]\n"
     ]
    },
    {
     "name": "stdout",
     "output_type": "stream",
     "text": [
      "Epoch 8 | Train loss: 2.797456 | Dev loss: 2.823984 | Train accuracy: 0.117 | Dev accuracy: 0.128\n"
     ]
    },
    {
     "name": "stderr",
     "output_type": "stream",
     "text": [
      "Training: 100%|██████████| 6289/6289 [00:35<00:00, 174.93it/s]\n"
     ]
    },
    {
     "name": "stdout",
     "output_type": "stream",
     "text": [
      "Epoch 9 | Train loss: 2.753149 | Dev loss: 2.731007 | Train accuracy: 0.110 | Dev accuracy: 0.120\n"
     ]
    },
    {
     "name": "stderr",
     "output_type": "stream",
     "text": [
      "Training: 100%|██████████| 6289/6289 [00:37<00:00, 165.64it/s]\n"
     ]
    },
    {
     "name": "stdout",
     "output_type": "stream",
     "text": [
      "Epoch 10 | Train loss: 2.748374 | Dev loss: 2.714012 | Train accuracy: 0.068 | Dev accuracy: 0.074\n"
     ]
    }
   ],
   "source": [
    "import lib.models.CombinerModel as CombinerModel\n",
    "importlib.reload(CombinerModel)\n",
    "\n",
    "model = CombinerModel.CombinerModel(dataset.iloc[0, 0].num_features,\n",
    "                                    sceneGraphEmbeddingSize=16,\n",
    "                                    imgEmbeddingSize=trainDataset.imageEmbeddingSize,\n",
    "                                    reducedImgEmbeddingSize=32,\n",
    "                                    encoderHiddenLayers=[1024, 256, 64],\n",
    "                                    numClasses=trainDataset.numClasses,\n",
    "                                    n_peripheralInputs=1,\n",
    "                                    feedForwardHiddenLayers=[32, 16, 16])\n",
    "\n",
    "model.train(trainDataset, devDataset, lr=0.0005, epochs=10)"
   ]
  },
  {
   "cell_type": "code",
   "execution_count": 18,
   "metadata": {},
   "outputs": [
    {
     "name": "stdout",
     "output_type": "stream",
     "text": [
      "              precision    recall  f1-score   support\n",
      "\n",
      "           0       0.00      0.00      0.00       315\n",
      "           1       0.11      0.09      0.10       305\n",
      "           2       0.00      0.00      0.00       271\n",
      "           3       0.03      0.01      0.01       416\n",
      "           4       0.00      0.00      0.00       272\n",
      "           5       0.00      0.00      0.00       302\n",
      "           6       0.09      0.99      0.16       306\n",
      "           7       0.09      0.21      0.12       422\n",
      "           8       0.01      0.02      0.01       414\n",
      "           9       0.00      0.00      0.00       312\n",
      "          10       0.00      0.00      0.00       403\n",
      "          11       0.00      0.00      0.00       383\n",
      "          12       0.00      0.00      0.00       398\n",
      "          13       0.00      0.00      0.00       332\n",
      "          14       0.00      0.00      0.00       412\n",
      "          15       0.00      0.00      0.00       316\n",
      "          16       0.00      0.00      0.00       320\n",
      "          17       0.00      0.00      0.00       390\n",
      "\n",
      "    accuracy                           0.07      6289\n",
      "   macro avg       0.02      0.07      0.02      6289\n",
      "weighted avg       0.02      0.07      0.02      6289\n",
      "\n"
     ]
    }
   ],
   "source": [
    "print(model.metrics[list(model.metrics.keys())[-1]]['trainMetrics']['report'])"
   ]
  },
  {
   "cell_type": "code",
   "execution_count": 14,
   "metadata": {},
   "outputs": [
    {
     "name": "stdout",
     "output_type": "stream",
     "text": [
      "tensor(5256)\n",
      "[tensor(4), tensor(6), tensor(0), tensor(10), tensor(15), tensor(16), tensor(5), tensor(8), tensor(16), tensor(1), tensor(13), tensor(11), tensor(14), tensor(13), tensor(8), tensor(3), tensor(1), tensor(12), tensor(12), tensor(13), tensor(11), tensor(2), tensor(10), tensor(2), tensor(12), tensor(7), tensor(11), tensor(8), tensor(6), tensor(11), tensor(14), tensor(2), tensor(3), tensor(7), tensor(5), tensor(0), tensor(8), tensor(6), tensor(3), tensor(17), tensor(3), tensor(3), tensor(14), tensor(15), tensor(0), tensor(14), tensor(15), tensor(12), tensor(12), tensor(14), tensor(0), tensor(0), tensor(8), tensor(10), tensor(7), tensor(3), tensor(11), tensor(3), tensor(16), tensor(9), tensor(0), tensor(13), tensor(11), tensor(8), tensor(17), tensor(10), tensor(10), tensor(3), tensor(10), tensor(12), tensor(12), tensor(11), tensor(4), tensor(2), tensor(10), tensor(2), tensor(3), tensor(8), tensor(16), tensor(16), tensor(0), tensor(16), tensor(14), tensor(17), tensor(12), tensor(14), tensor(4), tensor(3), tensor(4), tensor(12), tensor(8), tensor(16), tensor(13), tensor(14), tensor(15), tensor(14), tensor(5), tensor(4), tensor(10), tensor(4), tensor(8), tensor(14), tensor(3), tensor(1), tensor(0), tensor(7), tensor(3), tensor(2), tensor(16), tensor(12), tensor(5), tensor(12), tensor(0), tensor(1), tensor(14), tensor(8), tensor(9), tensor(6), tensor(1), tensor(16), tensor(16), tensor(3), tensor(17), tensor(4), tensor(12), tensor(7), tensor(2), tensor(7), tensor(12), tensor(13), tensor(2), tensor(14), tensor(7), tensor(13), tensor(1), tensor(13), tensor(14), tensor(5), tensor(4), tensor(17), tensor(8), tensor(12), tensor(12), tensor(7), tensor(9), tensor(10), tensor(1), tensor(10), tensor(6), tensor(8), tensor(3), tensor(11), tensor(17), tensor(16), tensor(11), tensor(7), tensor(4), tensor(3), tensor(7), tensor(7), tensor(4), tensor(14), tensor(15), tensor(9), tensor(7), tensor(17), tensor(17), tensor(0), tensor(1), tensor(10), tensor(17), tensor(12), tensor(14), tensor(5), tensor(16), tensor(12), tensor(4), tensor(10), tensor(16), tensor(15), tensor(4), tensor(3), tensor(3), tensor(2), tensor(10), tensor(15), tensor(3), tensor(17), tensor(7), tensor(3), tensor(17), tensor(11), tensor(15), tensor(0), tensor(11), tensor(7), tensor(0), tensor(2), tensor(14), tensor(9), tensor(16), tensor(15), tensor(2), tensor(17), tensor(17), tensor(7), tensor(11), tensor(10), tensor(5), tensor(16), tensor(10), tensor(3), tensor(10), tensor(4), tensor(5), tensor(14), tensor(10), tensor(10), tensor(13), tensor(7), tensor(14), tensor(11), tensor(1), tensor(11), tensor(12), tensor(3), tensor(10), tensor(4), tensor(9), tensor(17), tensor(3), tensor(2), tensor(3), tensor(7), tensor(9), tensor(8), tensor(4), tensor(17), tensor(7), tensor(7), tensor(3), tensor(14), tensor(9), tensor(6), tensor(3), tensor(8), tensor(17), tensor(8), tensor(12), tensor(14), tensor(9), tensor(16), tensor(13), tensor(7), tensor(0), tensor(6), tensor(10), tensor(15), tensor(11), tensor(5), tensor(4), tensor(5), tensor(0), tensor(12), tensor(8), tensor(15), tensor(9), tensor(1), tensor(5), tensor(14), tensor(12), tensor(17), tensor(3), tensor(7), tensor(1), tensor(0), tensor(7), tensor(17), tensor(14), tensor(14), tensor(8), tensor(6), tensor(6), tensor(5), tensor(9), tensor(12), tensor(17), tensor(16), tensor(3), tensor(4), tensor(5), tensor(16), tensor(17), tensor(7), tensor(11), tensor(11), tensor(12), tensor(8), tensor(13), tensor(7), tensor(10), tensor(14), tensor(16), tensor(4), tensor(11), tensor(11), tensor(17), tensor(1), tensor(11), tensor(7), tensor(10), tensor(10), tensor(8), tensor(13), tensor(13), tensor(12), tensor(15), tensor(16), tensor(16), tensor(6), tensor(17), tensor(13), tensor(0), tensor(4), tensor(14), tensor(2), tensor(17), tensor(15), tensor(5), tensor(1), tensor(4), tensor(14), tensor(17), tensor(14), tensor(2), tensor(13), tensor(17), tensor(11), tensor(1), tensor(14), tensor(8), tensor(14), tensor(14), tensor(14), tensor(14), tensor(16), tensor(7), tensor(0), tensor(16), tensor(2), tensor(6), tensor(4), tensor(14), tensor(15), tensor(6), tensor(5), tensor(12), tensor(16), tensor(8), tensor(8), tensor(1), tensor(1), tensor(15), tensor(11), tensor(17), tensor(12), tensor(8), tensor(12), tensor(14), tensor(10), tensor(5), tensor(17), tensor(5), tensor(5), tensor(3), tensor(15), tensor(1), tensor(0), tensor(12), tensor(9), tensor(1), tensor(5), tensor(11), tensor(3), tensor(13), tensor(12), tensor(7), tensor(10), tensor(8), tensor(12), tensor(10), tensor(11), tensor(14), tensor(17), tensor(12), tensor(11), tensor(10), tensor(9), tensor(13), tensor(13), tensor(13), tensor(16), tensor(15), tensor(12), tensor(7), tensor(0), tensor(11), tensor(1), tensor(0), tensor(10), tensor(6), tensor(2), tensor(5), tensor(13), tensor(14), tensor(9), tensor(12), tensor(16), tensor(7), tensor(7), tensor(6), tensor(0), tensor(5), tensor(8), tensor(3), tensor(2), tensor(0), tensor(13), tensor(15), tensor(9), tensor(17), tensor(1), tensor(3), tensor(6), tensor(14), tensor(6), tensor(1), tensor(12), tensor(4), tensor(8), tensor(7), tensor(3), tensor(1), tensor(13), tensor(4), tensor(7), tensor(8), tensor(14), tensor(6), tensor(13), tensor(3), tensor(2), tensor(5), tensor(3), tensor(12), tensor(1), tensor(9), tensor(12), tensor(7), tensor(4), tensor(3), tensor(11), tensor(16), tensor(14), tensor(1), tensor(2), tensor(8), tensor(1), tensor(7), tensor(1), tensor(4), tensor(5), tensor(16), tensor(6), tensor(11), tensor(7), tensor(10), tensor(14), tensor(6), tensor(5), tensor(0), tensor(13), tensor(8), tensor(4), tensor(17), tensor(7), tensor(7), tensor(9), tensor(0), tensor(7), tensor(5), tensor(2), tensor(11), tensor(16), tensor(3), tensor(14), tensor(10), tensor(10), tensor(7), tensor(14), tensor(12), tensor(1), tensor(2), tensor(13), tensor(10), tensor(4), tensor(13), tensor(3), tensor(2), tensor(10), tensor(12), tensor(0), tensor(2), tensor(8), tensor(5), tensor(12), tensor(3), tensor(5), tensor(7), tensor(16), tensor(8), tensor(17), tensor(8), tensor(10), tensor(5), tensor(16), tensor(3), tensor(10), tensor(1), tensor(3), tensor(16), tensor(7), tensor(0), tensor(17), tensor(8), tensor(9), tensor(0), tensor(12), tensor(9), tensor(13), tensor(13), tensor(13), tensor(14), tensor(6), tensor(0), tensor(2), tensor(7), tensor(11), tensor(0), tensor(17), tensor(13), tensor(12), tensor(14), tensor(5), tensor(1), tensor(15), tensor(14), tensor(0), tensor(13), tensor(0), tensor(6), tensor(11), tensor(0), tensor(8), tensor(17), tensor(7), tensor(15), tensor(3), tensor(15), tensor(10), tensor(10), tensor(7), tensor(16), tensor(4), tensor(3), tensor(5), tensor(0), tensor(14), tensor(12), tensor(16), tensor(10), tensor(12), tensor(3), tensor(9), tensor(7), tensor(6), tensor(9), tensor(7), tensor(6), tensor(14), tensor(1), tensor(8), tensor(1), tensor(1), tensor(17), tensor(17), tensor(3), tensor(9), tensor(5), tensor(12), tensor(13), tensor(0), tensor(7), tensor(14), tensor(17), tensor(12), tensor(16), tensor(16), tensor(13), tensor(5), tensor(14), tensor(8), tensor(0), tensor(2), tensor(8), tensor(9), tensor(5), tensor(11), tensor(15), tensor(9), tensor(17), tensor(8), tensor(12), tensor(8), tensor(2), tensor(9), tensor(16), tensor(7), tensor(13), tensor(5), tensor(8), tensor(7), tensor(0), tensor(4), tensor(2), tensor(10), tensor(8), tensor(9), tensor(12), tensor(9), tensor(9), tensor(9), tensor(15), tensor(9), tensor(1), tensor(13), tensor(4), tensor(12), tensor(13), tensor(17), tensor(9), tensor(11), tensor(12), tensor(13), tensor(0), tensor(0), tensor(7), tensor(16), tensor(14), tensor(10), tensor(6), tensor(14), tensor(13), tensor(8), tensor(9), tensor(5), tensor(7), tensor(1), tensor(15), tensor(12), tensor(4), tensor(11), tensor(15), tensor(2), tensor(0), tensor(8), tensor(15), tensor(12), tensor(3), tensor(7), tensor(3), tensor(3), tensor(2), tensor(7), tensor(4), tensor(14), tensor(3), tensor(0), tensor(7), tensor(8), tensor(0), tensor(11), tensor(16), tensor(0), tensor(0), tensor(12), tensor(8), tensor(12), tensor(7), tensor(14), tensor(7), tensor(14), tensor(10), tensor(2), tensor(3), tensor(14), tensor(12), tensor(6), tensor(2), tensor(6), tensor(11), tensor(0), tensor(14), tensor(5), tensor(17), tensor(13), tensor(8), tensor(1), tensor(0), tensor(16), tensor(10), tensor(10), tensor(7), tensor(12), tensor(7), tensor(16), tensor(16), tensor(17), tensor(17), tensor(14), tensor(14), tensor(10), tensor(1), tensor(6), tensor(16), tensor(0), tensor(15), tensor(10), tensor(16), tensor(1), tensor(3), tensor(5), tensor(10), tensor(12), tensor(9), tensor(9), tensor(14), tensor(3), tensor(17), tensor(3), tensor(2), tensor(2), tensor(1), tensor(4), tensor(5), tensor(7), tensor(11), tensor(5), tensor(17), tensor(3), tensor(4), tensor(10), tensor(7), tensor(3), tensor(3), tensor(5), tensor(4), tensor(14), tensor(8), tensor(10), tensor(17), tensor(7), tensor(13), tensor(5), tensor(4), tensor(14), tensor(9), tensor(10), tensor(10), tensor(10), tensor(10), tensor(2), tensor(15), tensor(3), tensor(4), tensor(6), tensor(15), tensor(10), tensor(17), tensor(7), tensor(8), tensor(8), tensor(12), tensor(5), tensor(16), tensor(12), tensor(3), tensor(8), tensor(3), tensor(15), tensor(1), tensor(14), tensor(16), tensor(16), tensor(5), tensor(8), tensor(13), tensor(7), tensor(15), tensor(14), tensor(17), tensor(12), tensor(5), tensor(8), tensor(12), tensor(8), tensor(6), tensor(9), tensor(5), tensor(8), tensor(8), tensor(13), tensor(11), tensor(5), tensor(1), tensor(3), tensor(17), tensor(15), tensor(8), tensor(3), tensor(16), tensor(13), tensor(14), tensor(10), tensor(3), tensor(1), tensor(10), tensor(8), tensor(11), tensor(14), tensor(7), tensor(12), tensor(16), tensor(7), tensor(11), tensor(9), tensor(9), tensor(7), tensor(15), tensor(17), tensor(12), tensor(17), tensor(17), tensor(5), tensor(11), tensor(11), tensor(3), tensor(2), tensor(5), tensor(4), tensor(17), tensor(14), tensor(11), tensor(6), tensor(16), tensor(10), tensor(8), tensor(9), tensor(10), tensor(12), tensor(12), tensor(13), tensor(5), tensor(14), tensor(3), tensor(12), tensor(9), tensor(12), tensor(9), tensor(3), tensor(5), tensor(11), tensor(9), tensor(3), tensor(11), tensor(5), tensor(9), tensor(8), tensor(10), tensor(0), tensor(10), tensor(11), tensor(13), tensor(3), tensor(10), tensor(7), tensor(3), tensor(11), tensor(17), tensor(1), tensor(8), tensor(7), tensor(7), tensor(3), tensor(17), tensor(10), tensor(14), tensor(13), tensor(4), tensor(4), tensor(0), tensor(1), tensor(14), tensor(17), tensor(4), tensor(13), tensor(15), tensor(12), tensor(3), tensor(17), tensor(13), tensor(5), tensor(15), tensor(11), tensor(2), tensor(3), tensor(7), tensor(8), tensor(13), tensor(16), tensor(16), tensor(0), tensor(7), tensor(8), tensor(1), tensor(3), tensor(1), tensor(3), tensor(16), tensor(0), tensor(6), tensor(10), tensor(13), tensor(11), tensor(2), tensor(11), tensor(16), tensor(5), tensor(0), tensor(13), tensor(12), tensor(1), tensor(14), tensor(0), tensor(17), tensor(8), tensor(8), tensor(12), tensor(3), tensor(16), tensor(5), tensor(13), tensor(11), tensor(13), tensor(6), tensor(9), tensor(8), tensor(8), tensor(16), tensor(17), tensor(6), tensor(16), tensor(2), tensor(14), tensor(12), tensor(17), tensor(12), tensor(0), tensor(10), tensor(9), tensor(9), tensor(16), tensor(11), tensor(16), tensor(17), tensor(9), tensor(0), tensor(7), tensor(3), tensor(12), tensor(11), tensor(1), tensor(7), tensor(10), tensor(11), tensor(7), tensor(13), tensor(9), tensor(10), tensor(2), tensor(1), tensor(0), tensor(12), tensor(5), tensor(11), tensor(12), tensor(10), tensor(17), tensor(1), tensor(12), tensor(16), tensor(2), tensor(0), tensor(3), tensor(9), tensor(4), tensor(4), tensor(2), tensor(14), tensor(6), tensor(9), tensor(10), tensor(16), tensor(3), tensor(8), tensor(14), tensor(8), tensor(3), tensor(9), tensor(12), tensor(12), tensor(5), tensor(12), tensor(8), tensor(8), tensor(8), tensor(12), tensor(17), tensor(15), tensor(2), tensor(17), tensor(9), tensor(14), tensor(7), tensor(14), tensor(15), tensor(3), tensor(8), tensor(11), tensor(8), tensor(6), tensor(16), tensor(12), tensor(6), tensor(1), tensor(7), tensor(6), tensor(16), tensor(10), tensor(12), tensor(1), tensor(4), tensor(17), tensor(11), tensor(7), tensor(1), tensor(8), tensor(2), tensor(8), tensor(1), tensor(9), tensor(12), tensor(5), tensor(6), tensor(15), tensor(10), tensor(3), tensor(11), tensor(0), tensor(13), tensor(12), tensor(15), tensor(11), tensor(17), tensor(9), tensor(5), tensor(3), tensor(3), tensor(17), tensor(6), tensor(13), tensor(9), tensor(14), tensor(15), tensor(7), tensor(14), tensor(15), tensor(10), tensor(2), tensor(12), tensor(10), tensor(0), tensor(10), tensor(10), tensor(0), tensor(7), tensor(7), tensor(15), tensor(11), tensor(12), tensor(11), tensor(1), tensor(13), tensor(1), tensor(4), tensor(7), tensor(1), tensor(10), tensor(10), tensor(8), tensor(13), tensor(14), tensor(9), tensor(3), tensor(4), tensor(15), tensor(9), tensor(1), tensor(10), tensor(8), tensor(12), tensor(6), tensor(2), tensor(17), tensor(2), tensor(17), tensor(11), tensor(13), tensor(13), tensor(8), tensor(4), tensor(10), tensor(10), tensor(3), tensor(16), tensor(15), tensor(13), tensor(8), tensor(7), tensor(7), tensor(3), tensor(15), tensor(6), tensor(10), tensor(17), tensor(14), tensor(10), tensor(8), tensor(1), tensor(2), tensor(13), tensor(11), tensor(11), tensor(10), tensor(16), tensor(8), tensor(0), tensor(11), tensor(16), tensor(8), tensor(15), tensor(11), tensor(17), tensor(14), tensor(12), tensor(9), tensor(17), tensor(4), tensor(9), tensor(6), tensor(10), tensor(7), tensor(11), tensor(2), tensor(9), tensor(9), tensor(0), tensor(15), tensor(13), tensor(1), tensor(11), tensor(8), tensor(3), tensor(3), tensor(15), tensor(13), tensor(0), tensor(15), tensor(17), tensor(7), tensor(16), tensor(10), tensor(13), tensor(8), tensor(0), tensor(8), tensor(7), tensor(17), tensor(11), tensor(15), tensor(13), tensor(3), tensor(1), tensor(5), tensor(4), tensor(2), tensor(14), tensor(11), tensor(14), tensor(1), tensor(1), tensor(2), tensor(8), tensor(16), tensor(10), tensor(3), tensor(6), tensor(12), tensor(11), tensor(11), tensor(10), tensor(11), tensor(4), tensor(3), tensor(14), tensor(5), tensor(8), tensor(14), tensor(13), tensor(2), tensor(7), tensor(2), tensor(2), tensor(11), tensor(5), tensor(16), tensor(6), tensor(5), tensor(16), tensor(13), tensor(2), tensor(12), tensor(16), tensor(16), tensor(11), tensor(9), tensor(13), tensor(11), tensor(9), tensor(12), tensor(9), tensor(16), tensor(11), tensor(10), tensor(5), tensor(0), tensor(8), tensor(2), tensor(13), tensor(2), tensor(17), tensor(17), tensor(14), tensor(6), tensor(10), tensor(5), tensor(6), tensor(2), tensor(0), tensor(15), tensor(7), tensor(17), tensor(3), tensor(0), tensor(10), tensor(16), tensor(3), tensor(11), tensor(3), tensor(4), tensor(8), tensor(0), tensor(11), tensor(7), tensor(3), tensor(13), tensor(13), tensor(2), tensor(10), tensor(16), tensor(6), tensor(7), tensor(0), tensor(17), tensor(12), tensor(0), tensor(8), tensor(1), tensor(6), tensor(4), tensor(9), tensor(11), tensor(5), tensor(1), tensor(8), tensor(13), tensor(16), tensor(8), tensor(0), tensor(7), tensor(12), tensor(9), tensor(12), tensor(1), tensor(0), tensor(14), tensor(13), tensor(9), tensor(7), tensor(10), tensor(0), tensor(8), tensor(17), tensor(1), tensor(11), tensor(12), tensor(13), tensor(6), tensor(14), tensor(0), tensor(15), tensor(9), tensor(6), tensor(12), tensor(11), tensor(4), tensor(12), tensor(8), tensor(7), tensor(9), tensor(9), tensor(10), tensor(15), tensor(11), tensor(3), tensor(12), tensor(16), tensor(5), tensor(2), tensor(10), tensor(12), tensor(14), tensor(1), tensor(5), tensor(14), tensor(11), tensor(3), tensor(13), tensor(2), tensor(9), tensor(12), tensor(5), tensor(8), tensor(1), tensor(16), tensor(17), tensor(11), tensor(1), tensor(4), tensor(4), tensor(7), tensor(3), tensor(11), tensor(2), tensor(5), tensor(13), tensor(14), tensor(11), tensor(9), tensor(15), tensor(14), tensor(16), tensor(6), tensor(15), tensor(3), tensor(14), tensor(3), tensor(13), tensor(9), tensor(3), tensor(7), tensor(5), tensor(6), tensor(10), tensor(17), tensor(1), tensor(13), tensor(13), tensor(14), tensor(6), tensor(7), tensor(3), tensor(12), tensor(15), tensor(9), tensor(7), tensor(7), tensor(13), tensor(1), tensor(6), tensor(16), tensor(5), tensor(6), tensor(17), tensor(5), tensor(7), tensor(10), tensor(3), tensor(10), tensor(0), tensor(7), tensor(12), tensor(8), tensor(16), tensor(17), tensor(8), tensor(8), tensor(9), tensor(3), tensor(17), tensor(5), tensor(13), tensor(5), tensor(1), tensor(15), tensor(11), tensor(15), tensor(12), tensor(17), tensor(4), tensor(11), tensor(10), tensor(4), tensor(11), tensor(9), tensor(12), tensor(9), tensor(9), tensor(4), tensor(4), tensor(8), tensor(9), tensor(16), tensor(9), tensor(12), tensor(17), tensor(3), tensor(13), tensor(5), tensor(16), tensor(3), tensor(13), tensor(6), tensor(3), tensor(3), tensor(6), tensor(10), tensor(12), tensor(2), tensor(13), tensor(6), tensor(1), tensor(9), tensor(17), tensor(0), tensor(11), tensor(15), tensor(7), tensor(17), tensor(14), tensor(11), tensor(3), tensor(8), tensor(5), tensor(13), tensor(0), tensor(10), tensor(11), tensor(17), tensor(8), tensor(9), tensor(9), tensor(16), tensor(5), tensor(12), tensor(12), tensor(11), tensor(15), tensor(14), tensor(13), tensor(0), tensor(13), tensor(2), tensor(5), tensor(13), tensor(15), tensor(14), tensor(11), tensor(7), tensor(12), tensor(17), tensor(6), tensor(15), tensor(12), tensor(10), tensor(16), tensor(9), tensor(15), tensor(6), tensor(6), tensor(7), tensor(16), tensor(0), tensor(15), tensor(12), tensor(0), tensor(17), tensor(17), tensor(11), tensor(0), tensor(12), tensor(11), tensor(13), tensor(1), tensor(12), tensor(11), tensor(11), tensor(11), tensor(17), tensor(7), tensor(13), tensor(17), tensor(0), tensor(6), tensor(15), tensor(8), tensor(1), tensor(9), tensor(17), tensor(11), tensor(1), tensor(4), tensor(16), tensor(3), tensor(5), tensor(4), tensor(11), tensor(10), tensor(15), tensor(14), tensor(15), tensor(4), tensor(14), tensor(17), tensor(1), tensor(10), tensor(8), tensor(6), tensor(17), tensor(7), tensor(8), tensor(17), tensor(14), tensor(17), tensor(5), tensor(15), tensor(17), tensor(16), tensor(7), tensor(6), tensor(12), tensor(11), tensor(4), tensor(7), tensor(11), tensor(7), tensor(7), tensor(0), tensor(6), tensor(2), tensor(17), tensor(8), tensor(3), tensor(4), tensor(14), tensor(12), tensor(1), tensor(3), tensor(17), tensor(15), tensor(8), tensor(10), tensor(6), tensor(9), tensor(10), tensor(3), tensor(14), tensor(11), tensor(15), tensor(15), tensor(10), tensor(10), tensor(8), tensor(4), tensor(13), tensor(9), tensor(12), tensor(12), tensor(4), tensor(8), tensor(12), tensor(14), tensor(14), tensor(5), tensor(11), tensor(16), tensor(12), tensor(3), tensor(9), tensor(15), tensor(13), tensor(13), tensor(7), tensor(17), tensor(10), tensor(17), tensor(14), tensor(8), tensor(15), tensor(11), tensor(10), tensor(14), tensor(3), tensor(7), tensor(4), tensor(2), tensor(16), tensor(8), tensor(8), tensor(14), tensor(7), tensor(16), tensor(16), tensor(8), tensor(0), tensor(4), tensor(7), tensor(12), tensor(15), tensor(15), tensor(8), tensor(7), tensor(13), tensor(5), tensor(7), tensor(3), tensor(5), tensor(8), tensor(11), tensor(1), tensor(15), tensor(9), tensor(15), tensor(4), tensor(8), tensor(0), tensor(14), tensor(11), tensor(1), tensor(3), tensor(1), tensor(0), tensor(7), tensor(6), tensor(11), tensor(3), tensor(3), tensor(3), tensor(12), tensor(6), tensor(11), tensor(8), tensor(12), tensor(4), tensor(14), tensor(12), tensor(2), tensor(14), tensor(12), tensor(3), tensor(14), tensor(12), tensor(16), tensor(8), tensor(0), tensor(11), tensor(3), tensor(14), tensor(9), tensor(5), tensor(2), tensor(11), tensor(2), tensor(13), tensor(11), tensor(10), tensor(15), tensor(12), tensor(9), tensor(2), tensor(16), tensor(2), tensor(9), tensor(11), tensor(0), tensor(14), tensor(16), tensor(5), tensor(16), tensor(5), tensor(15), tensor(0), tensor(7), tensor(15), tensor(6), tensor(7), tensor(1), tensor(2), tensor(2), tensor(3), tensor(7), tensor(15), tensor(3), tensor(10), tensor(15), tensor(13), tensor(3), tensor(1), tensor(1), tensor(6), tensor(8), tensor(0), tensor(15), tensor(9), tensor(0), tensor(4), tensor(7), tensor(1), tensor(0), tensor(1), tensor(3), tensor(5), tensor(3), tensor(16), tensor(13), tensor(5), tensor(1), tensor(11), tensor(11), tensor(13), tensor(11), tensor(15), tensor(1), tensor(2), tensor(7), tensor(8), tensor(0), tensor(0), tensor(10), tensor(12), tensor(13), tensor(10), tensor(3), tensor(0), tensor(12), tensor(5), tensor(8), tensor(15), tensor(1), tensor(0), tensor(17), tensor(11), tensor(17), tensor(0), tensor(13), tensor(17), tensor(15), tensor(10), tensor(5), tensor(13), tensor(12), tensor(11), tensor(14), tensor(11), tensor(8), tensor(1), tensor(15), tensor(14), tensor(8), tensor(6), tensor(7), tensor(1), tensor(0), tensor(8), tensor(8), tensor(9), tensor(3), tensor(16), tensor(8), tensor(7), tensor(17), tensor(15), tensor(16), tensor(1), tensor(9), tensor(10), tensor(8), tensor(12), tensor(15), tensor(14), tensor(3), tensor(14), tensor(13), tensor(1), tensor(11), tensor(5), tensor(10), tensor(16), tensor(3), tensor(9), tensor(11), tensor(17), tensor(0), tensor(6), tensor(10), tensor(17), tensor(16), tensor(10), tensor(6), tensor(17), tensor(17), tensor(12), tensor(11), tensor(5), tensor(0), tensor(8), tensor(4), tensor(11), tensor(16), tensor(1), tensor(17), tensor(13), tensor(17), tensor(6), tensor(15), tensor(15), tensor(12), tensor(15), tensor(10), tensor(5), tensor(6), tensor(3), tensor(3), tensor(15), tensor(13), tensor(3), tensor(1), tensor(12), tensor(1), tensor(1), tensor(4), tensor(8), tensor(10), tensor(10), tensor(3), tensor(15), tensor(16), tensor(9), tensor(17), tensor(17), tensor(17), tensor(11), tensor(9), tensor(0), tensor(1), tensor(17), tensor(10), tensor(16), tensor(0), tensor(12), tensor(12), tensor(0), tensor(8), tensor(1), tensor(10), tensor(1), tensor(7), tensor(8), tensor(16), tensor(4), tensor(12), tensor(4), tensor(16), tensor(5), tensor(7), tensor(4), tensor(0), tensor(4), tensor(7), tensor(15), tensor(10), tensor(0), tensor(12), tensor(8), tensor(14), tensor(14), tensor(9), tensor(9), tensor(17), tensor(3), tensor(0), tensor(12), tensor(14), tensor(12), tensor(10), tensor(6), tensor(4), tensor(1), tensor(4), tensor(0), tensor(5), tensor(11), tensor(14), tensor(8), tensor(16), tensor(11), tensor(0), tensor(15), tensor(10), tensor(9), tensor(14), tensor(7), tensor(9), tensor(11), tensor(10), tensor(11), tensor(16), tensor(8), tensor(17), tensor(4), tensor(2), tensor(6), tensor(9), tensor(9), tensor(17), tensor(0), tensor(6), tensor(14), tensor(1), tensor(1), tensor(3), tensor(9), tensor(10), tensor(6), tensor(6), tensor(11), tensor(3), tensor(11), tensor(13), tensor(11), tensor(7), tensor(5), tensor(7), tensor(16), tensor(17), tensor(17), tensor(9), tensor(11), tensor(0), tensor(9), tensor(4), tensor(9), tensor(12), tensor(10), tensor(14), tensor(6), tensor(10), tensor(8), tensor(16), tensor(12), tensor(10), tensor(9), tensor(17), tensor(2), tensor(17), tensor(8), tensor(10), tensor(8), tensor(13), tensor(14), tensor(4), tensor(0), tensor(3), tensor(17), tensor(16), tensor(17), tensor(15), tensor(0), tensor(17), tensor(11), tensor(13), tensor(5), tensor(7), tensor(7), tensor(16), tensor(10), tensor(12), tensor(10), tensor(13), tensor(17), tensor(0), tensor(10), tensor(12), tensor(13), tensor(12), tensor(6), tensor(2), tensor(13), tensor(5), tensor(2), tensor(1), tensor(17), tensor(8), tensor(11), tensor(3), tensor(17), tensor(15), tensor(4), tensor(2), tensor(6), tensor(2), tensor(6), tensor(6), tensor(10), tensor(2), tensor(7), tensor(17), tensor(0), tensor(16), tensor(5), tensor(7), tensor(4), tensor(10), tensor(12), tensor(0), tensor(11), tensor(3), tensor(2), tensor(14), tensor(14), tensor(8), tensor(14), tensor(11), tensor(12), tensor(14), tensor(0), tensor(5), tensor(5), tensor(9), tensor(13), tensor(0), tensor(9), tensor(12), tensor(8), tensor(13), tensor(4), tensor(11), tensor(10), tensor(8), tensor(4), tensor(10), tensor(11), tensor(10), tensor(14), tensor(14), tensor(8), tensor(14), tensor(4), tensor(15), tensor(6), tensor(6), tensor(15), tensor(15), tensor(16), tensor(1), tensor(10), tensor(15), tensor(11), tensor(2), tensor(13), tensor(6), tensor(12), tensor(17), tensor(2), tensor(3), tensor(1), tensor(8), tensor(10), tensor(12), tensor(9), tensor(15), tensor(10), tensor(12), tensor(17), tensor(16), tensor(5), tensor(5), tensor(14), tensor(16), tensor(12), tensor(13), tensor(6), tensor(0), tensor(4), tensor(9), tensor(3), tensor(14), tensor(6), tensor(16), tensor(0), tensor(2), tensor(12), tensor(10), tensor(15), tensor(9), tensor(5), tensor(7), tensor(8), tensor(10), tensor(2), tensor(14), tensor(8), tensor(3), tensor(2), tensor(1), tensor(17), tensor(1), tensor(9), tensor(3), tensor(2), tensor(8), tensor(16), tensor(7), tensor(7), tensor(0), tensor(16), tensor(14), tensor(14), tensor(4), tensor(10), tensor(9), tensor(14), tensor(6), tensor(13), tensor(17), tensor(6), tensor(15), tensor(3), tensor(3), tensor(2), tensor(8), tensor(9), tensor(6), tensor(1), tensor(2), tensor(8), tensor(2), tensor(13), tensor(1), tensor(12), tensor(15), tensor(12), tensor(15), tensor(17), tensor(6), tensor(7), tensor(16), tensor(3), tensor(5), tensor(3), tensor(2), tensor(9), tensor(0), tensor(13), tensor(5), tensor(17), tensor(7), tensor(0), tensor(12), tensor(9), tensor(16), tensor(16), tensor(13), tensor(4), tensor(15), tensor(13), tensor(0), tensor(12), tensor(8), tensor(17), tensor(17), tensor(14), tensor(4), tensor(12), tensor(9), tensor(9), tensor(4), tensor(8), tensor(7), tensor(11), tensor(2), tensor(14), tensor(10), tensor(8), tensor(11), tensor(14), tensor(14), tensor(3), tensor(16), tensor(12), tensor(2), tensor(15), tensor(13), tensor(9), tensor(7), tensor(6), tensor(10), tensor(10), tensor(12), tensor(16), tensor(7), tensor(3), tensor(7), tensor(6), tensor(10), tensor(15), tensor(5), tensor(13), tensor(3), tensor(5), tensor(3), tensor(11), tensor(0), tensor(12), tensor(5), tensor(0), tensor(15), tensor(5), tensor(9), tensor(15), tensor(13), tensor(9), tensor(14), tensor(3), tensor(7), tensor(1), tensor(13), tensor(9), tensor(17), tensor(10), tensor(14), tensor(1), tensor(0), tensor(16), tensor(1), tensor(7), tensor(7), tensor(10), tensor(15), tensor(8), tensor(6), tensor(17), tensor(1), tensor(11), tensor(3), tensor(5), tensor(8), tensor(14), tensor(15), tensor(16), tensor(0), tensor(2), tensor(16), tensor(13), tensor(17), tensor(5), tensor(12), tensor(7), tensor(15), tensor(17), tensor(9), tensor(16), tensor(1), tensor(7), tensor(14), tensor(10), tensor(9), tensor(12), tensor(11), tensor(10), tensor(13), tensor(3), tensor(14), tensor(9), tensor(8), tensor(8), tensor(8), tensor(3), tensor(5), tensor(9), tensor(13), tensor(7), tensor(10), tensor(10), tensor(1), tensor(5), tensor(7), tensor(0), tensor(1), tensor(10), tensor(14), tensor(0), tensor(15), tensor(10), tensor(6), tensor(6), tensor(17), tensor(15), tensor(16), tensor(8), tensor(4), tensor(10), tensor(17), tensor(5), tensor(8), tensor(3), tensor(15), tensor(1), tensor(2), tensor(3), tensor(0), tensor(3), tensor(15), tensor(5), tensor(17), tensor(9), tensor(5), tensor(3), tensor(6), tensor(12), tensor(5), tensor(7), tensor(12), tensor(17), tensor(15), tensor(6), tensor(8), tensor(17), tensor(15), tensor(10), tensor(10), tensor(14), tensor(5), tensor(13), tensor(8), tensor(14), tensor(8), tensor(12), tensor(11), tensor(17), tensor(15), tensor(8), tensor(6), tensor(13), tensor(10), tensor(15), tensor(7), tensor(2), tensor(10), tensor(14), tensor(10), tensor(14), tensor(11), tensor(14), tensor(3), tensor(15), tensor(5), tensor(0), tensor(6), tensor(1), tensor(14), tensor(14), tensor(11), tensor(12), tensor(14), tensor(16), tensor(9), tensor(16), tensor(10), tensor(9), tensor(11), tensor(16), tensor(2), tensor(16), tensor(1), tensor(3), tensor(17), tensor(8), tensor(14), tensor(4), tensor(12), tensor(16), tensor(12), tensor(14), tensor(12), tensor(9), tensor(5), tensor(14), tensor(15), tensor(4), tensor(5), tensor(16), tensor(13), tensor(4), tensor(4), tensor(17), tensor(14), tensor(15), tensor(3), tensor(17), tensor(13), tensor(1), tensor(14), tensor(7), tensor(16), tensor(12), tensor(9), tensor(5), tensor(3), tensor(11), tensor(15), tensor(3), tensor(4), tensor(16), tensor(5), tensor(4), tensor(4), tensor(6), tensor(0), tensor(16), tensor(11), tensor(15), tensor(3), tensor(12), tensor(14), tensor(16), tensor(13), tensor(5), tensor(13), tensor(13), tensor(13), tensor(1), tensor(3), tensor(17), tensor(5), tensor(3), tensor(10), tensor(11), tensor(6), tensor(13), tensor(3), tensor(10), tensor(14), tensor(8), tensor(1), tensor(16), tensor(14), tensor(16), tensor(17), tensor(1), tensor(1), tensor(16), tensor(16), tensor(17), tensor(14), tensor(14), tensor(2), tensor(0), tensor(13), tensor(7), tensor(7), tensor(5), tensor(2), tensor(13), tensor(11), tensor(13), tensor(0), tensor(17), tensor(11), tensor(1), tensor(4), tensor(3), tensor(0), tensor(5), tensor(2), tensor(9), tensor(15), tensor(0), tensor(16), tensor(14), tensor(6), tensor(13), tensor(14), tensor(11), tensor(5), tensor(6), tensor(14), tensor(3), tensor(1), tensor(12), tensor(15), tensor(8), tensor(7), tensor(4), tensor(10), tensor(1), tensor(8), tensor(15), tensor(12), tensor(4), tensor(15), tensor(11), tensor(8), tensor(0), tensor(6), tensor(12), tensor(3), tensor(3), tensor(5), tensor(10), tensor(5), tensor(4), tensor(3), tensor(12), tensor(10), tensor(11), tensor(10), tensor(13), tensor(16), tensor(6), tensor(17), tensor(17), tensor(15), tensor(1), tensor(17), tensor(3), tensor(8), tensor(5), tensor(3), tensor(12), tensor(3), tensor(12), tensor(12), tensor(16), tensor(15), tensor(10), tensor(1), tensor(14), tensor(6), tensor(11), tensor(1), tensor(10), tensor(5), tensor(8), tensor(0), tensor(17), tensor(16), tensor(15), tensor(13), tensor(12), tensor(15), tensor(1), tensor(16), tensor(6), tensor(9), tensor(14), tensor(16), tensor(9), tensor(13), tensor(1), tensor(11), tensor(4), tensor(6), tensor(12), tensor(12), tensor(0), tensor(17), tensor(12), tensor(16), tensor(12), tensor(3), tensor(7), tensor(1), tensor(8), tensor(2), tensor(17), tensor(14), tensor(14), tensor(5), tensor(13), tensor(9), tensor(10), tensor(4), tensor(15), tensor(1), tensor(15), tensor(3), tensor(12), tensor(6), tensor(7), tensor(11), tensor(3), tensor(2), tensor(17), tensor(0), tensor(2), tensor(8), tensor(6), tensor(7), tensor(12), tensor(7), tensor(11), tensor(6), tensor(9), tensor(9), tensor(16), tensor(15), tensor(17), tensor(10), tensor(7), tensor(13), tensor(12), tensor(0), tensor(14), tensor(8), tensor(2), tensor(0), tensor(0), tensor(1), tensor(10), tensor(12), tensor(1), tensor(3), tensor(10), tensor(12), tensor(17), tensor(11), tensor(6), tensor(12), tensor(15), tensor(8), tensor(15), tensor(13), tensor(4), tensor(0), tensor(0), tensor(6), tensor(9), tensor(2), tensor(5), tensor(8), tensor(13), tensor(14), tensor(3), tensor(14), tensor(8), tensor(17), tensor(5), tensor(13), tensor(16), tensor(17), tensor(12), tensor(14), tensor(4), tensor(13), tensor(10), tensor(9), tensor(13), tensor(9), tensor(12), tensor(10), tensor(8), tensor(13), tensor(0), tensor(5), tensor(7), tensor(6), tensor(12), tensor(13), tensor(4), tensor(15), tensor(12), tensor(4), tensor(2), tensor(3), tensor(15), tensor(17), tensor(14), tensor(6), tensor(11), tensor(9), tensor(8), tensor(0), tensor(9), tensor(13), tensor(12), tensor(16), tensor(1), tensor(10), tensor(4), tensor(7), tensor(16), tensor(1), tensor(4), tensor(7), tensor(0), tensor(7), tensor(11), tensor(10), tensor(7), tensor(5), tensor(7), tensor(15), tensor(15), tensor(16), tensor(11), tensor(9), tensor(5), tensor(16), tensor(15), tensor(6), tensor(1), tensor(2), tensor(2), tensor(6), tensor(15), tensor(7), tensor(10), tensor(7), tensor(17), tensor(4), tensor(5), tensor(17), tensor(1), tensor(5), tensor(7), tensor(17), tensor(16), tensor(14), tensor(7), tensor(5), tensor(8), tensor(2), tensor(7), tensor(9), tensor(6), tensor(10), tensor(14), tensor(3), tensor(8), tensor(4), tensor(14), tensor(9), tensor(4), tensor(14), tensor(0), tensor(10), tensor(0), tensor(12), tensor(17), tensor(11), tensor(8), tensor(11), tensor(0), tensor(17), tensor(10), tensor(12), tensor(5), tensor(13), tensor(1), tensor(10), tensor(3), tensor(10), tensor(14), tensor(1), tensor(7), tensor(7), tensor(3), tensor(9), tensor(16), tensor(0), tensor(10), tensor(14), tensor(4), tensor(11), tensor(12), tensor(17), tensor(16), tensor(5), tensor(10), tensor(4), tensor(1), tensor(3), tensor(15), tensor(11), tensor(12), tensor(12), tensor(5), tensor(13), tensor(3), tensor(13), tensor(7), tensor(11), tensor(15), tensor(15), tensor(14), tensor(12), tensor(14), tensor(14), tensor(11), tensor(2), tensor(14), tensor(10), tensor(15), tensor(12), tensor(10), tensor(3), tensor(12), tensor(11), tensor(8), tensor(8), tensor(7), tensor(13), tensor(12), tensor(16), tensor(13), tensor(17), tensor(1), tensor(3), tensor(17), tensor(7), tensor(10), tensor(9), tensor(10), tensor(8), tensor(12), tensor(7), tensor(1), tensor(5), tensor(11), tensor(17), tensor(2), tensor(11), tensor(12), tensor(1), tensor(1), tensor(13), tensor(15), tensor(7), tensor(5), tensor(2), tensor(10), tensor(7), tensor(16), tensor(1), tensor(12), tensor(7), tensor(11), tensor(7), tensor(5), tensor(3), tensor(14), tensor(10), tensor(4), tensor(1), tensor(1), tensor(2), tensor(16), tensor(5), tensor(1), tensor(6), tensor(7), tensor(14), tensor(5), tensor(13), tensor(17), tensor(7), tensor(12), tensor(6), tensor(16), tensor(2), tensor(1), tensor(8), tensor(15), tensor(7), tensor(16), tensor(14), tensor(9), tensor(13), tensor(8), tensor(6), tensor(16), tensor(7), tensor(4), tensor(8), tensor(11), tensor(10), tensor(17), tensor(5), tensor(11), tensor(9), tensor(15), tensor(16), tensor(14), tensor(5), tensor(3), tensor(4), tensor(4), tensor(12), tensor(3), tensor(8), tensor(14), tensor(12), tensor(0), tensor(11), tensor(15), tensor(2), tensor(3), tensor(7), tensor(10), tensor(11), tensor(3), tensor(2), tensor(3), tensor(4), tensor(12), tensor(17), tensor(17), tensor(5), tensor(14), tensor(14), tensor(14), tensor(9), tensor(15), tensor(11), tensor(15), tensor(16), tensor(8), tensor(3), tensor(14), tensor(6), tensor(5), tensor(14), tensor(5), tensor(3), tensor(14), tensor(1), tensor(13), tensor(9), tensor(16), tensor(11), tensor(15), tensor(8), tensor(15), tensor(6), tensor(13), tensor(14), tensor(7), tensor(7), tensor(1), tensor(11), tensor(3), tensor(14), tensor(12), tensor(5), tensor(3), tensor(9), tensor(8), tensor(15), tensor(17), tensor(4), tensor(11), tensor(14), tensor(16), tensor(14), tensor(15), tensor(12), tensor(16), tensor(11), tensor(13), tensor(4), tensor(6), tensor(7), tensor(17), tensor(5), tensor(0), tensor(7), tensor(2), tensor(8), tensor(1), tensor(9), tensor(4), tensor(13), tensor(17), tensor(13), tensor(13), tensor(6), tensor(11), tensor(11), tensor(1), tensor(4), tensor(6), tensor(1), tensor(3), tensor(12), tensor(16), tensor(11), tensor(17), tensor(17), tensor(8), tensor(4), tensor(7), tensor(8), tensor(3), tensor(9), tensor(12), tensor(5), tensor(14), tensor(6), tensor(4), tensor(2), tensor(9), tensor(17), tensor(11), tensor(2), tensor(16), tensor(12), tensor(7), tensor(13), tensor(5), tensor(6), tensor(12), tensor(8), tensor(7), tensor(6), tensor(10), tensor(11), tensor(16), tensor(8), tensor(0), tensor(7), tensor(6), tensor(7), tensor(3), tensor(10), tensor(16), tensor(12), tensor(0), tensor(10), tensor(3), tensor(4), tensor(5), tensor(1), tensor(14), tensor(15), tensor(14), tensor(11), tensor(7), tensor(10), tensor(0), tensor(8), tensor(17), tensor(7), tensor(9), tensor(16), tensor(11), tensor(4), tensor(1), tensor(4), tensor(16), tensor(10), tensor(12), tensor(6), tensor(6), tensor(17), tensor(4), tensor(14), tensor(14), tensor(17), tensor(8), tensor(5), tensor(14), tensor(10), tensor(10), tensor(8), tensor(1), tensor(13), tensor(4), tensor(5), tensor(16), tensor(3), tensor(2), tensor(3), tensor(1), tensor(15), tensor(11), tensor(8), tensor(3), tensor(1), tensor(11), tensor(13), tensor(7), tensor(10), tensor(3), tensor(15), tensor(1), tensor(8), tensor(3), tensor(10), tensor(1), tensor(10), tensor(8), tensor(14), tensor(15), tensor(3), tensor(5), tensor(9), tensor(9), tensor(7), tensor(9), tensor(1), tensor(2), tensor(16), tensor(16), tensor(8), tensor(9), tensor(9), tensor(1), tensor(4), tensor(12), tensor(12), tensor(15), tensor(11), tensor(16), tensor(14), tensor(1), tensor(7), tensor(3), tensor(1), tensor(7), tensor(0), tensor(2), tensor(3), tensor(14), tensor(16), tensor(3), tensor(0), tensor(15), tensor(17), tensor(7), tensor(14), tensor(13), tensor(10), tensor(13), tensor(3), tensor(5), tensor(2), tensor(6), tensor(1), tensor(14), tensor(3), tensor(0), tensor(15), tensor(4), tensor(2), tensor(0), tensor(9), tensor(7), tensor(4), tensor(10), tensor(5), tensor(10), tensor(17), tensor(3), tensor(13), tensor(6), tensor(9), tensor(10), tensor(12), tensor(10), tensor(13), tensor(15), tensor(0), tensor(10), tensor(12), tensor(11), tensor(7), tensor(6), tensor(7), tensor(7), tensor(9), tensor(5), tensor(3), tensor(12), tensor(6), tensor(1), tensor(6), tensor(4), tensor(10), tensor(11), tensor(10), tensor(17), tensor(10), tensor(16), tensor(6), tensor(16), tensor(6), tensor(6), tensor(1), tensor(8), tensor(12), tensor(4), tensor(7), tensor(8), tensor(2), tensor(0), tensor(10), tensor(8), tensor(14), tensor(6), tensor(14), tensor(6), tensor(0), tensor(4), tensor(0), tensor(10), tensor(10), tensor(1), tensor(16), tensor(7), tensor(6), tensor(17), tensor(3), tensor(6), tensor(14), tensor(16), tensor(14), tensor(15), tensor(3), tensor(2), tensor(3), tensor(9), tensor(8), tensor(0), tensor(6), tensor(7), tensor(1), tensor(12), tensor(17), tensor(0), tensor(8), tensor(5), tensor(11), tensor(3), tensor(6), tensor(6), tensor(4), tensor(1), tensor(6), tensor(8), tensor(2), tensor(12), tensor(9), tensor(13), tensor(11), tensor(8), tensor(8), tensor(4), tensor(17), tensor(5), tensor(14), tensor(11), tensor(17), tensor(13), tensor(14), tensor(9), tensor(11), tensor(2), tensor(6), tensor(9), tensor(3), tensor(5), tensor(12), tensor(10), tensor(3), tensor(3), tensor(8), tensor(7), tensor(2), tensor(15), tensor(10), tensor(1), tensor(9), tensor(12), tensor(11), tensor(8), tensor(15), tensor(13), tensor(10), tensor(5), tensor(16), tensor(16), tensor(15), tensor(13), tensor(8), tensor(8), tensor(2), tensor(1), tensor(14), tensor(12), tensor(0), tensor(12), tensor(17), tensor(13), tensor(16), tensor(0), tensor(16), tensor(17), tensor(7), tensor(11), tensor(3), tensor(11), tensor(2), tensor(12), tensor(16), tensor(1), tensor(6), tensor(2), tensor(14), tensor(3), tensor(17), tensor(2), tensor(14), tensor(13), tensor(1), tensor(7), tensor(2), tensor(12), tensor(10), tensor(9), tensor(14), tensor(14), tensor(5), tensor(15), tensor(6), tensor(17), tensor(14), tensor(17), tensor(8), tensor(10), tensor(16), tensor(10), tensor(15), tensor(14), tensor(8), tensor(7), tensor(11), tensor(12), tensor(2), tensor(9), tensor(14), tensor(16), tensor(10), tensor(6), tensor(7), tensor(6), tensor(12), tensor(14), tensor(4), tensor(1), tensor(13), tensor(8), tensor(14), tensor(0), tensor(15), tensor(1), tensor(14), tensor(10), tensor(7), tensor(15), tensor(14), tensor(4), tensor(7), tensor(15), tensor(7), tensor(5), tensor(11), tensor(2), tensor(3), tensor(15), tensor(14), tensor(2), tensor(0), tensor(11), tensor(6), tensor(9), tensor(1), tensor(5), tensor(0), tensor(7), tensor(12), tensor(6), tensor(9), tensor(14), tensor(0), tensor(2), tensor(9), tensor(12), tensor(17), tensor(3), tensor(3), tensor(14), tensor(10), tensor(10), tensor(17), tensor(16), tensor(17), tensor(8), tensor(17), tensor(13), tensor(14), tensor(14), tensor(16), tensor(6), tensor(17), tensor(11), tensor(5), tensor(1), tensor(6), tensor(10), tensor(17), tensor(2), tensor(13), tensor(7), tensor(16), tensor(15), tensor(13), tensor(12), tensor(10), tensor(3), tensor(14), tensor(3), tensor(17), tensor(16), tensor(5), tensor(13), tensor(14), tensor(13), tensor(4), tensor(10), tensor(4), tensor(17), tensor(4), tensor(6), tensor(2), tensor(4), tensor(10), tensor(8), tensor(11), tensor(14), tensor(8), tensor(15), tensor(3), tensor(3), tensor(13), tensor(3), tensor(10), tensor(16), tensor(16), tensor(16), tensor(12), tensor(4), tensor(1), tensor(12), tensor(8), tensor(15), tensor(7), tensor(2), tensor(7), tensor(9), tensor(8), tensor(7), tensor(8), tensor(4), tensor(15), tensor(15), tensor(9), tensor(14), tensor(1), tensor(11), tensor(11), tensor(12), tensor(1), tensor(16), tensor(14), tensor(5), tensor(15), tensor(2), tensor(13), tensor(10), tensor(11), tensor(6), tensor(4), tensor(9), tensor(5), tensor(15), tensor(3), tensor(9), tensor(15), tensor(9), tensor(8), tensor(17), tensor(7), tensor(7), tensor(17), tensor(13), tensor(0), tensor(5), tensor(7), tensor(6), tensor(7), tensor(4), tensor(0), tensor(11), tensor(3), tensor(6), tensor(13), tensor(8), tensor(12), tensor(7), tensor(2), tensor(11), tensor(1), tensor(10), tensor(0), tensor(17), tensor(3), tensor(10), tensor(8), tensor(9), tensor(11), tensor(6), tensor(14), tensor(7), tensor(6), tensor(15), tensor(2), tensor(9), tensor(9), tensor(3), tensor(14), tensor(11), tensor(17), tensor(9), tensor(3), tensor(1), tensor(1), tensor(17), tensor(10), tensor(2), tensor(8), tensor(15), tensor(6), tensor(14), tensor(5), tensor(12), tensor(8), tensor(10), tensor(6), tensor(16), tensor(5), tensor(4), tensor(1), tensor(13), tensor(16), tensor(0), tensor(9), tensor(15), tensor(5), tensor(6), tensor(2), tensor(17), tensor(13), tensor(12), tensor(10), tensor(14), tensor(16), tensor(17), tensor(2), tensor(5), tensor(9), tensor(0), tensor(6), tensor(9), tensor(6), tensor(17), tensor(17), tensor(3), tensor(15), tensor(13), tensor(4), tensor(2), tensor(5), tensor(8), tensor(17), tensor(6), tensor(17), tensor(14), tensor(13), tensor(7), tensor(10), tensor(11), tensor(1), tensor(12), tensor(4), tensor(2), tensor(10), tensor(15), tensor(7), tensor(0), tensor(17), tensor(2), tensor(7), tensor(2), tensor(13), tensor(0), tensor(2), tensor(8), tensor(6), tensor(5), tensor(9), tensor(16), tensor(10), tensor(11), tensor(14), tensor(1), tensor(3), tensor(0), tensor(7), tensor(13), tensor(12), tensor(8), tensor(13), tensor(5), tensor(7), tensor(7), tensor(17), tensor(7), tensor(3), tensor(9), tensor(7), tensor(14), tensor(5), tensor(10), tensor(0), tensor(12), tensor(8), tensor(6), tensor(4), tensor(15), tensor(17), tensor(16), tensor(0), tensor(17), tensor(11), tensor(3), tensor(14), tensor(2), tensor(15), tensor(2), tensor(7), tensor(2), tensor(4), tensor(9), tensor(12), tensor(0), tensor(16), tensor(8), tensor(6), tensor(6), tensor(5), tensor(1), tensor(6), tensor(17), tensor(12), tensor(15), tensor(14), tensor(6), tensor(4), tensor(15), tensor(14), tensor(17), tensor(5), tensor(7), tensor(0), tensor(10), tensor(5), tensor(12), tensor(3), tensor(17), tensor(4), tensor(8), tensor(3), tensor(3), tensor(14), tensor(10), tensor(3), tensor(13), tensor(6), tensor(5), tensor(6), tensor(1), tensor(3), tensor(16), tensor(6), tensor(0), tensor(16), tensor(0), tensor(15), tensor(5), tensor(0), tensor(1), tensor(17), tensor(14), tensor(5), tensor(14), tensor(7), tensor(6), tensor(9), tensor(7), tensor(1), tensor(7), tensor(17), tensor(12), tensor(7), tensor(2), tensor(10), tensor(9), tensor(9), tensor(17), tensor(15), tensor(10), tensor(13), tensor(15), tensor(4), tensor(11), tensor(12), tensor(6), tensor(1), tensor(7), tensor(17), tensor(5), tensor(16), tensor(6), tensor(8), tensor(17), tensor(15), tensor(8), tensor(14), tensor(6), tensor(12), tensor(8), tensor(14), tensor(6), tensor(6), tensor(16), tensor(11), tensor(8), tensor(0), tensor(16), tensor(10), tensor(11), tensor(12), tensor(11), tensor(15), tensor(16), tensor(10), tensor(8), tensor(10), tensor(2), tensor(12), tensor(6), tensor(10), tensor(5), tensor(3), tensor(4), tensor(6), tensor(2), tensor(16), tensor(17), tensor(14), tensor(5), tensor(3), tensor(10), tensor(17), tensor(17), tensor(16), tensor(16), tensor(8), tensor(11), tensor(11), tensor(5), tensor(6), tensor(11), tensor(3), tensor(7), tensor(8), tensor(3), tensor(17), tensor(14), tensor(3), tensor(7), tensor(7), tensor(9), tensor(13), tensor(14), tensor(7), tensor(8), tensor(13), tensor(13), tensor(3), tensor(15), tensor(13), tensor(11), tensor(16), tensor(8), tensor(10), tensor(8), tensor(7), tensor(11), tensor(6), tensor(5), tensor(2), tensor(3), tensor(13), tensor(0), tensor(16), tensor(14), tensor(0), tensor(13), tensor(15), tensor(13), tensor(5), tensor(10), tensor(17), tensor(11), tensor(14), tensor(3), tensor(4), tensor(5), tensor(13), tensor(13), tensor(9), tensor(15), tensor(17), tensor(1), tensor(8), tensor(17), tensor(12), tensor(10), tensor(8), tensor(10), tensor(15), tensor(8), tensor(6), tensor(4), tensor(13), tensor(6), tensor(2), tensor(3), tensor(7), tensor(6), tensor(0), tensor(1), tensor(11), tensor(7), tensor(8), tensor(6), tensor(15), tensor(5), tensor(14), tensor(4), tensor(5), tensor(6), tensor(8), tensor(14), tensor(6), tensor(3), tensor(1), tensor(2), tensor(9), tensor(0), tensor(5), tensor(6), tensor(7), tensor(10), tensor(10), tensor(1), tensor(13), tensor(9), tensor(5), tensor(10), tensor(1), tensor(17), tensor(2), tensor(11), tensor(14), tensor(8), tensor(7), tensor(14), tensor(12), tensor(16), tensor(10), tensor(15), tensor(7), tensor(15), tensor(8), tensor(12), tensor(17), tensor(12), tensor(7), tensor(15), tensor(13), tensor(4), tensor(11), tensor(17), tensor(2), tensor(8), tensor(2), tensor(3), tensor(13), tensor(6), tensor(15), tensor(2), tensor(10), tensor(15), tensor(11), tensor(9), tensor(11), tensor(11), tensor(8), tensor(0), tensor(14), tensor(9), tensor(7), tensor(7), tensor(3), tensor(17), tensor(17), tensor(4), tensor(3), tensor(0), tensor(12), tensor(4), tensor(10), tensor(15), tensor(12), tensor(12), tensor(1), tensor(12), tensor(2), tensor(13), tensor(3), tensor(16), tensor(11), tensor(8), tensor(8), tensor(10), tensor(10), tensor(1), tensor(14), tensor(5), tensor(1), tensor(14), tensor(14), tensor(2), tensor(14), tensor(7), tensor(1), tensor(10), tensor(3), tensor(8), tensor(7), tensor(6), tensor(16), tensor(3), tensor(3), tensor(8), tensor(15), tensor(14), tensor(4), tensor(4), tensor(16), tensor(3), tensor(13), tensor(0), tensor(11), tensor(3), tensor(7), tensor(2), tensor(16), tensor(13), tensor(5), tensor(2), tensor(17), tensor(1), tensor(10), tensor(15), tensor(0), tensor(0), tensor(3), tensor(0), tensor(15), tensor(17), tensor(1), tensor(4), tensor(11), tensor(17), tensor(14), tensor(10), tensor(11), tensor(13), tensor(7), tensor(3), tensor(15), tensor(17), tensor(10), tensor(13), tensor(1), tensor(1), tensor(7), tensor(8), tensor(5), tensor(10), tensor(3), tensor(5), tensor(3), tensor(10), tensor(0), tensor(7), tensor(1), tensor(17), tensor(16), tensor(0), tensor(6), tensor(2), tensor(11), tensor(16), tensor(5), tensor(3), tensor(8), tensor(12), tensor(17), tensor(0), tensor(12), tensor(3), tensor(14), tensor(8), tensor(1), tensor(16), tensor(7), tensor(13), tensor(15), tensor(15), tensor(12), tensor(17), tensor(5), tensor(4), tensor(11), tensor(7), tensor(10), tensor(9), tensor(12), tensor(16), tensor(9), tensor(14), tensor(7), tensor(14), tensor(12), tensor(17), tensor(9), tensor(1), tensor(13), tensor(7), tensor(7), tensor(12), tensor(6), tensor(5), tensor(8), tensor(13), tensor(7), tensor(0), tensor(6), tensor(8), tensor(7), tensor(8), tensor(15), tensor(4), tensor(14), tensor(17), tensor(1), tensor(12), tensor(15), tensor(3), tensor(14), tensor(14), tensor(17), tensor(12), tensor(0), tensor(3), tensor(9), tensor(9), tensor(3), tensor(12), tensor(5), tensor(9), tensor(11), tensor(12), tensor(7), tensor(9), tensor(9), tensor(7), tensor(0), tensor(6), tensor(15), tensor(0), tensor(11), tensor(13), tensor(4), tensor(3), tensor(15), tensor(17), tensor(1), tensor(10), tensor(17), tensor(14), tensor(11), tensor(13), tensor(13), tensor(1), tensor(9), tensor(1), tensor(0), tensor(17), tensor(6), tensor(14), tensor(11), tensor(14), tensor(5), tensor(14), tensor(16), tensor(10), tensor(4), tensor(16), tensor(3), tensor(3), tensor(8), tensor(8), tensor(1), tensor(3), tensor(10), tensor(17), tensor(8), tensor(11), tensor(12), tensor(0), tensor(0), tensor(2), tensor(14), tensor(7), tensor(7), tensor(11), tensor(17), tensor(3), tensor(10), tensor(13), tensor(5), tensor(15), tensor(17), tensor(14), tensor(9), tensor(2), tensor(0), tensor(11), tensor(6), tensor(6), tensor(10), tensor(12), tensor(14), tensor(11), tensor(8), tensor(14), tensor(6), tensor(4), tensor(9), tensor(15), tensor(13), tensor(17), tensor(3), tensor(8), tensor(7), tensor(4), tensor(8), tensor(16), tensor(7), tensor(15), tensor(10), tensor(8), tensor(6), tensor(1), tensor(6), tensor(5), tensor(7), tensor(11), tensor(3), tensor(14), tensor(14), tensor(0), tensor(11), tensor(7), tensor(9), tensor(9), tensor(10), tensor(17), tensor(4), tensor(16), tensor(6), tensor(5), tensor(9), tensor(11), tensor(16), tensor(2), tensor(0), tensor(10), tensor(16), tensor(13), tensor(3), tensor(6), tensor(9), tensor(14), tensor(7), tensor(6), tensor(6), tensor(12), tensor(3), tensor(12), tensor(8), tensor(1), tensor(15), tensor(12), tensor(16), tensor(7), tensor(5), tensor(3), tensor(9), tensor(9), tensor(4), tensor(17), tensor(12), tensor(7), tensor(3), tensor(1), tensor(12), tensor(17), tensor(10), tensor(14), tensor(11), tensor(10), tensor(0), tensor(14), tensor(6), tensor(0), tensor(17), tensor(11), tensor(2), tensor(10), tensor(11), tensor(6), tensor(2), tensor(8), tensor(7), tensor(11), tensor(5), tensor(15), tensor(17), tensor(16), tensor(11), tensor(8), tensor(17), tensor(14), tensor(4), tensor(10), tensor(5), tensor(14), tensor(16), tensor(7), tensor(4), tensor(9), tensor(12), tensor(11), tensor(2), tensor(10), tensor(8), tensor(14), tensor(7), tensor(2), tensor(8), tensor(13), tensor(2), tensor(6), tensor(13), tensor(4), tensor(6), tensor(7), tensor(8), tensor(7), tensor(17), tensor(0), tensor(5), tensor(8), tensor(8), tensor(10), tensor(13), tensor(8), tensor(4), tensor(3), tensor(0), tensor(0), tensor(7), tensor(17), tensor(2), tensor(3), tensor(8), tensor(3), tensor(3), tensor(8), tensor(7), tensor(3), tensor(6), tensor(14), tensor(11), tensor(9), tensor(2), tensor(12), tensor(9), tensor(1), tensor(11), tensor(17), tensor(3), tensor(1), tensor(3), tensor(11), tensor(4), tensor(4), tensor(13), tensor(11), tensor(4), tensor(15), tensor(12), tensor(13), tensor(15), tensor(11), tensor(11), tensor(6), tensor(16), tensor(12), tensor(17), tensor(4), tensor(9), tensor(6), tensor(11), tensor(17), tensor(7), tensor(14), tensor(7), tensor(13), tensor(11), tensor(5), tensor(3), tensor(6), tensor(15), tensor(1), tensor(8), tensor(7), tensor(8), tensor(0), tensor(17), tensor(2), tensor(5), tensor(15), tensor(3), tensor(10), tensor(9), tensor(0), tensor(6), tensor(2), tensor(5), tensor(14), tensor(17), tensor(6), tensor(3), tensor(8), tensor(14), tensor(11), tensor(9), tensor(0), tensor(9), tensor(4), tensor(4), tensor(2), tensor(1), tensor(17), tensor(3), tensor(13), tensor(11), tensor(10), tensor(5), tensor(6), tensor(10), tensor(9), tensor(10), tensor(8), tensor(17), tensor(15), tensor(5), tensor(17), tensor(13), tensor(13), tensor(11), tensor(8), tensor(11), tensor(2), tensor(14), tensor(1), tensor(10), tensor(8), tensor(3), tensor(10), tensor(13), tensor(1), tensor(1), tensor(1), tensor(8), tensor(3), tensor(9), tensor(7), tensor(2), tensor(0), tensor(10), tensor(10), tensor(7), tensor(13), tensor(8), tensor(9), tensor(6), tensor(7), tensor(5), tensor(4), tensor(2), tensor(7), tensor(16), tensor(2), tensor(13), tensor(17), tensor(17), tensor(9), tensor(2), tensor(6), tensor(14), tensor(2), tensor(17), tensor(13), tensor(10), tensor(13), tensor(2), tensor(17), tensor(13), tensor(13), tensor(12), tensor(8), tensor(14), tensor(15), tensor(13), tensor(9), tensor(0), tensor(0), tensor(10), tensor(9), tensor(7), tensor(10), tensor(17), tensor(0), tensor(11), tensor(14), tensor(11), tensor(11), tensor(11), tensor(3), tensor(1), tensor(5), tensor(10), tensor(13), tensor(17), tensor(6), tensor(16), tensor(6), tensor(0), tensor(7), tensor(4), tensor(7), tensor(6), tensor(2), tensor(6), tensor(8), tensor(8), tensor(1), tensor(8), tensor(15), tensor(9), tensor(12), tensor(14), tensor(1), tensor(5), tensor(4), tensor(12), tensor(4), tensor(0), tensor(17), tensor(7), tensor(10), tensor(4), tensor(12), tensor(9), tensor(12), tensor(12), tensor(16), tensor(3), tensor(17), tensor(10), tensor(6), tensor(15), tensor(10), tensor(4), tensor(8), tensor(8), tensor(4), tensor(6), tensor(13), tensor(3), tensor(2), tensor(16), tensor(0), tensor(12), tensor(3), tensor(6), tensor(10), tensor(14), tensor(11), tensor(17), tensor(13), tensor(6), tensor(11), tensor(3), tensor(8), tensor(2), tensor(10), tensor(12), tensor(6), tensor(16), tensor(2), tensor(11), tensor(11), tensor(7), tensor(12), tensor(1), tensor(11), tensor(7), tensor(6), tensor(10), tensor(5), tensor(14), tensor(0), tensor(6), tensor(7), tensor(14), tensor(6), tensor(7), tensor(14), tensor(2), tensor(5), tensor(8), tensor(11), tensor(13), tensor(11), tensor(9), tensor(17), tensor(1), tensor(8), tensor(8), tensor(11), tensor(3), tensor(17), tensor(7), tensor(16), tensor(14), tensor(15), tensor(7), tensor(0), tensor(11), tensor(17), tensor(7), tensor(3), tensor(11), tensor(11), tensor(8), tensor(6), tensor(11), tensor(15), tensor(14), tensor(10), tensor(15), tensor(13), tensor(10), tensor(14), tensor(8), tensor(16), tensor(3), tensor(1), tensor(0), tensor(8), tensor(8), tensor(12), tensor(15), tensor(11), tensor(14), tensor(15), tensor(9), tensor(15), tensor(15), tensor(0), tensor(7), tensor(10), tensor(6), tensor(3), tensor(5), tensor(7), tensor(5), tensor(12), tensor(17), tensor(15), tensor(16), tensor(9), tensor(8), tensor(10), tensor(3), tensor(11), tensor(8), tensor(11), tensor(2), tensor(4), tensor(14), tensor(14), tensor(4), tensor(8), tensor(11), tensor(7), tensor(17), tensor(10), tensor(14), tensor(1), tensor(4), tensor(16), tensor(6), tensor(8), tensor(17), tensor(4), tensor(14), tensor(6), tensor(0), tensor(17), tensor(9), tensor(10), tensor(6), tensor(4), tensor(17), tensor(3), tensor(11), tensor(17), tensor(0), tensor(14), tensor(7), tensor(3), tensor(8), tensor(3), tensor(0), tensor(4), tensor(2), tensor(11), tensor(11), tensor(10), tensor(2), tensor(0), tensor(16), tensor(5), tensor(2), tensor(15), tensor(1), tensor(12), tensor(2), tensor(12), tensor(2), tensor(1), tensor(12), tensor(1), tensor(8), tensor(14), tensor(7), tensor(0), tensor(1), tensor(10), tensor(16), tensor(9), tensor(14), tensor(10), tensor(3), tensor(1), tensor(1), tensor(13), tensor(16), tensor(10), tensor(9), tensor(13), tensor(15), tensor(15), tensor(14), tensor(0), tensor(11), tensor(14), tensor(9), tensor(3), tensor(9), tensor(7), tensor(17), tensor(10), tensor(13), tensor(17), tensor(7), tensor(1), tensor(13), tensor(6), tensor(9), tensor(14), tensor(9), tensor(11), tensor(12), tensor(7), tensor(3), tensor(2), tensor(11), tensor(14), tensor(17), tensor(9), tensor(5), tensor(15), tensor(8), tensor(8), tensor(11), tensor(1), tensor(12), tensor(3), tensor(6), tensor(4), tensor(1), tensor(13), tensor(0), tensor(16), tensor(13), tensor(15), tensor(15), tensor(0), tensor(14), tensor(7), tensor(9), tensor(4), tensor(14), tensor(0), tensor(1), tensor(3), tensor(17), tensor(7), tensor(17), tensor(4), tensor(1), tensor(7), tensor(3), tensor(2), tensor(11), tensor(10), tensor(6), tensor(16), tensor(13), tensor(4), tensor(8), tensor(16), tensor(10), tensor(5), tensor(15), tensor(12), tensor(12), tensor(17), tensor(4), tensor(16), tensor(10), tensor(14), tensor(12), tensor(13), tensor(8), tensor(16), tensor(8), tensor(3), tensor(0), tensor(1), tensor(17), tensor(1), tensor(15), tensor(5), tensor(0), tensor(10), tensor(9), tensor(15), tensor(10), tensor(11), tensor(0), tensor(2), tensor(4), tensor(17), tensor(17), tensor(16), tensor(9), tensor(9), tensor(1), tensor(17), tensor(3), tensor(3), tensor(7), tensor(14), tensor(11), tensor(6), tensor(11), tensor(1), tensor(6), tensor(11), tensor(7), tensor(14), tensor(4), tensor(10), tensor(7), tensor(1), tensor(9), tensor(8), tensor(7), tensor(8), tensor(4), tensor(9), tensor(16), tensor(10), tensor(15), tensor(4), tensor(3), tensor(12), tensor(11), tensor(8), tensor(7), tensor(1), tensor(14), tensor(10), tensor(5), tensor(15), tensor(17), tensor(8), tensor(9), tensor(2), tensor(3), tensor(8), tensor(12), tensor(17), tensor(5), tensor(11), tensor(16), tensor(7), tensor(17), tensor(8), tensor(11), tensor(14), tensor(10), tensor(17), tensor(10), tensor(15), tensor(5), tensor(13), tensor(10), tensor(4), tensor(11), tensor(7), tensor(7), tensor(3), tensor(10), tensor(13), tensor(9), tensor(7), tensor(12), tensor(11), tensor(4), tensor(5), tensor(13), tensor(13), tensor(8), tensor(0), tensor(0), tensor(17), tensor(12), tensor(6), tensor(15), tensor(16), tensor(13), tensor(3), tensor(7), tensor(11), tensor(15), tensor(8), tensor(1), tensor(14), tensor(3), tensor(3), tensor(2), tensor(9), tensor(2), tensor(2), tensor(11), tensor(10), tensor(17), tensor(0), tensor(10), tensor(11), tensor(5), tensor(14), tensor(0), tensor(14), tensor(8), tensor(9), tensor(11), tensor(10), tensor(4), tensor(16), tensor(9), tensor(12), tensor(11), tensor(13), tensor(15), tensor(8), tensor(3), tensor(3), tensor(16), tensor(6), tensor(12), tensor(7), tensor(14), tensor(8), tensor(13), tensor(17), tensor(11), tensor(16), tensor(9), tensor(8), tensor(14), tensor(12), tensor(7), tensor(17), tensor(5), tensor(5), tensor(10), tensor(12), tensor(16), tensor(8), tensor(13), tensor(0), tensor(11), tensor(14), tensor(17), tensor(5), tensor(4), tensor(10), tensor(13), tensor(13), tensor(10), tensor(14), tensor(6), tensor(1), tensor(14), tensor(7), tensor(2), tensor(2), tensor(14), tensor(1), tensor(1), tensor(8), tensor(7), tensor(4), tensor(10), tensor(12), tensor(11), tensor(6), tensor(16), tensor(8), tensor(16), tensor(3), tensor(0), tensor(15), tensor(8), tensor(7), tensor(3), tensor(10), tensor(3), tensor(7), tensor(9), tensor(17), tensor(4), tensor(4), tensor(1), tensor(4), tensor(6), tensor(7), tensor(8), tensor(10), tensor(14), tensor(13), tensor(9), tensor(14), tensor(7), tensor(5), tensor(6), tensor(14), tensor(12), tensor(15), tensor(10), tensor(11), tensor(13), tensor(4), tensor(8), tensor(5), tensor(13), tensor(2), tensor(5), tensor(4), tensor(4), tensor(9), tensor(3), tensor(3), tensor(13), tensor(16), tensor(9), tensor(14), tensor(17), tensor(12), tensor(12), tensor(3), tensor(17), tensor(0), tensor(7), tensor(17), tensor(13), tensor(9), tensor(0), tensor(0), tensor(2), tensor(16), tensor(4), tensor(15), tensor(17), tensor(0), tensor(17), tensor(17), tensor(1), tensor(17), tensor(1), tensor(6), tensor(14), tensor(4), tensor(13), tensor(10), tensor(8), tensor(17), tensor(1), tensor(12), tensor(9), tensor(10), tensor(3), tensor(8), tensor(12), tensor(14), tensor(5), tensor(17), tensor(13), tensor(10), tensor(5), tensor(7), tensor(9), tensor(5), tensor(7), tensor(6), tensor(10), tensor(3), tensor(14), tensor(2), tensor(14), tensor(11), tensor(11), tensor(8), tensor(8), tensor(4), tensor(12), tensor(0), tensor(1), tensor(17), tensor(3), tensor(5), tensor(9), tensor(11), tensor(11), tensor(7), tensor(12), tensor(8), tensor(13), tensor(11), tensor(11), tensor(13), tensor(2), tensor(17), tensor(14), tensor(14), tensor(12), tensor(9), tensor(1), tensor(3), tensor(13), tensor(8), tensor(6), tensor(5), tensor(0), tensor(17), tensor(7), tensor(11), tensor(11), tensor(7), tensor(7), tensor(9), tensor(2), tensor(15), tensor(0), tensor(14), tensor(5), tensor(1), tensor(2), tensor(11), tensor(17), tensor(10), tensor(11), tensor(13), tensor(1), tensor(3), tensor(1), tensor(0), tensor(10), tensor(6), tensor(17), tensor(12), tensor(7), tensor(4), tensor(13), tensor(8), tensor(8), tensor(11), tensor(17), tensor(8), tensor(10), tensor(0), tensor(0), tensor(17), tensor(10), tensor(7), tensor(3), tensor(10), tensor(0), tensor(15), tensor(17), tensor(7), tensor(8), tensor(15), tensor(9), tensor(4), tensor(2), tensor(12), tensor(8), tensor(0), tensor(7), tensor(11), tensor(13), tensor(10), tensor(15), tensor(17), tensor(11), tensor(10), tensor(5), tensor(9), tensor(4), tensor(4), tensor(0), tensor(0), tensor(7), tensor(7), tensor(8), tensor(16), tensor(16), tensor(8), tensor(12), tensor(11), tensor(12), tensor(5), tensor(6), tensor(11), tensor(1), tensor(12), tensor(11), tensor(9), tensor(16), tensor(7), tensor(7), tensor(16), tensor(13), tensor(11), tensor(0), tensor(4), tensor(2), tensor(5), tensor(11), tensor(13), tensor(13), tensor(16), tensor(15), tensor(2), tensor(6), tensor(5), tensor(12), tensor(14), tensor(5), tensor(7), tensor(10), tensor(2), tensor(7), tensor(9), tensor(11), tensor(3), tensor(15), tensor(4), tensor(2), tensor(2), tensor(15), tensor(13), tensor(7), tensor(10), tensor(10), tensor(3), tensor(2), tensor(17), tensor(13), tensor(0), tensor(9), tensor(12), tensor(5), tensor(8), tensor(0), tensor(5), tensor(15), tensor(4), tensor(4), tensor(11), tensor(15), tensor(0), tensor(14), tensor(17), tensor(0), tensor(12), tensor(4), tensor(15), tensor(6), tensor(1), tensor(4), tensor(8), tensor(2), tensor(2), tensor(1), tensor(5), tensor(16), tensor(12), tensor(7), tensor(12), tensor(7), tensor(10), tensor(14), tensor(6), tensor(6), tensor(12), tensor(5), tensor(10), tensor(12), tensor(14), tensor(3), tensor(16), tensor(10), tensor(17), tensor(12), tensor(3), tensor(16), tensor(11), tensor(9), tensor(17), tensor(13), tensor(11), tensor(13), tensor(12), tensor(8), tensor(0), tensor(12), tensor(7), tensor(13), tensor(3), tensor(14), tensor(8), tensor(10), tensor(8), tensor(4), tensor(14), tensor(8), tensor(17), tensor(10), tensor(3), tensor(8), tensor(12), tensor(12), tensor(12), tensor(0), tensor(10), tensor(17), tensor(4), tensor(10), tensor(10), tensor(16), tensor(16), tensor(3), tensor(4), tensor(14), tensor(15), tensor(0), tensor(0), tensor(3), tensor(8), tensor(2), tensor(3), tensor(8), tensor(3), tensor(9), tensor(6), tensor(14), tensor(8), tensor(2), tensor(9), tensor(2), tensor(3), tensor(12), tensor(13), tensor(17), tensor(7), tensor(9), tensor(5), tensor(15), tensor(4), tensor(14), tensor(14), tensor(13), tensor(15), tensor(10), tensor(1), tensor(13), tensor(12), tensor(7), tensor(2), tensor(11), tensor(3), tensor(12), tensor(10), tensor(17), tensor(17), tensor(17), tensor(11), tensor(0), tensor(14), tensor(17), tensor(6), tensor(7), tensor(5), tensor(2), tensor(9), tensor(15), tensor(6), tensor(0), tensor(13), tensor(7), tensor(6), tensor(14), tensor(0), tensor(2), tensor(17), tensor(14), tensor(10), tensor(2), tensor(13), tensor(1), tensor(9), tensor(10), tensor(3), tensor(9), tensor(3), tensor(3), tensor(8), tensor(11), tensor(7), tensor(12), tensor(8), tensor(15), tensor(12), tensor(5), tensor(5), tensor(6), tensor(3), tensor(0), tensor(17), tensor(7), tensor(15), tensor(17), tensor(1), tensor(1), tensor(17), tensor(13), tensor(9), tensor(9), tensor(6), tensor(10), tensor(8), tensor(5), tensor(16), tensor(7), tensor(5), tensor(9), tensor(15), tensor(16), tensor(0), tensor(14), tensor(10), tensor(14), tensor(12), tensor(15), tensor(0), tensor(5), tensor(11), tensor(11), tensor(11), tensor(13), tensor(14), tensor(2), tensor(8), tensor(15), tensor(13), tensor(4), tensor(14), tensor(5), tensor(14), tensor(10), tensor(14), tensor(14), tensor(9), tensor(11), tensor(5), tensor(15), tensor(2), tensor(0), tensor(2), tensor(13), tensor(10), tensor(17), tensor(12), tensor(7), tensor(10), tensor(15), tensor(1), tensor(2), tensor(12), tensor(1), tensor(14), tensor(16), tensor(17), tensor(8), tensor(3), tensor(3), tensor(17), tensor(16), tensor(2), tensor(9), tensor(13), tensor(16), tensor(0), tensor(5), tensor(7), tensor(5), tensor(14), tensor(0), tensor(12), tensor(16), tensor(5), tensor(12), tensor(5), tensor(2), tensor(8), tensor(6), tensor(13), tensor(3), tensor(8), tensor(6), tensor(16), tensor(5), tensor(8), tensor(3), tensor(12), tensor(4), tensor(4), tensor(7), tensor(3), tensor(2), tensor(3), tensor(12), tensor(17), tensor(5), tensor(2), tensor(5), tensor(8), tensor(16), tensor(14), tensor(12), tensor(4), tensor(11), tensor(16), tensor(16), tensor(16), tensor(8), tensor(17), tensor(7), tensor(8), tensor(11), tensor(8), tensor(8), tensor(10), tensor(15), tensor(2), tensor(0), tensor(12), tensor(10), tensor(1), tensor(12), tensor(0), tensor(14), tensor(6), tensor(2), tensor(14), tensor(2), tensor(12), tensor(7), tensor(8), tensor(12), tensor(12), tensor(8), tensor(10), tensor(7), tensor(16), tensor(17), tensor(14), tensor(16), tensor(4), tensor(9), tensor(14), tensor(17), tensor(1), tensor(7), tensor(8), tensor(13), tensor(12), tensor(9), tensor(6), tensor(15), tensor(4), tensor(17), tensor(11), tensor(3), tensor(16), tensor(10), tensor(0), tensor(13), tensor(12), tensor(6), tensor(13), tensor(16), tensor(17), tensor(15), tensor(12), tensor(8), tensor(10), tensor(8), tensor(14), tensor(7), tensor(3), tensor(0), tensor(8), tensor(3), tensor(10), tensor(5), tensor(14), tensor(10), tensor(6), tensor(12), tensor(7), tensor(17), tensor(16), tensor(15), tensor(9), tensor(4), tensor(0), tensor(12), tensor(15), tensor(8), tensor(14), tensor(16), tensor(14), tensor(15), tensor(7), tensor(1), tensor(7), tensor(9), tensor(12), tensor(3), tensor(15), tensor(14), tensor(11), tensor(7), tensor(2), tensor(5), tensor(8), tensor(13), tensor(9), tensor(16), tensor(1), tensor(4), tensor(10), tensor(0), tensor(14), tensor(17), tensor(7), tensor(14), tensor(13), tensor(13), tensor(11), tensor(10), tensor(14), tensor(6), tensor(3), tensor(3), tensor(8), tensor(6), tensor(16), tensor(14), tensor(16), tensor(16), tensor(16), tensor(13), tensor(2), tensor(1), tensor(13), tensor(9), tensor(12), tensor(3), tensor(7), tensor(12), tensor(5), tensor(3), tensor(0), tensor(16), tensor(11), tensor(13), tensor(17), tensor(0), tensor(3), tensor(5), tensor(6), tensor(17), tensor(3), tensor(2), tensor(17), tensor(4), tensor(12), tensor(1), tensor(13), tensor(8), tensor(1), tensor(17), tensor(16), tensor(16), tensor(1), tensor(9), tensor(17), tensor(8), tensor(6), tensor(15), tensor(10), tensor(0), tensor(14), tensor(7), tensor(8), tensor(10), tensor(6), tensor(10), tensor(9), tensor(5), tensor(4), tensor(7), tensor(5), tensor(11), tensor(2), tensor(15), tensor(7), tensor(0), tensor(0), tensor(14), tensor(12), tensor(8), tensor(2), tensor(17), tensor(0), tensor(0), tensor(10), tensor(9), tensor(11), tensor(6), tensor(11), tensor(15), tensor(12), tensor(12), tensor(8), tensor(14), tensor(11), tensor(14), tensor(5), tensor(4), tensor(3), tensor(7), tensor(11), tensor(13), tensor(12), tensor(12), tensor(3), tensor(14), tensor(1), tensor(2), tensor(11), tensor(7), tensor(16), tensor(6), tensor(4), tensor(0), tensor(7), tensor(1), tensor(4), tensor(1), tensor(11), tensor(8), tensor(13), tensor(8), tensor(2), tensor(9), tensor(15), tensor(4), tensor(10), tensor(3), tensor(6), tensor(11), tensor(10), tensor(12), tensor(2), tensor(12), tensor(8), tensor(12), tensor(17), tensor(6), tensor(2), tensor(4), tensor(0), tensor(11), tensor(15), tensor(4), tensor(4), tensor(8), tensor(3), tensor(17), tensor(8), tensor(4), tensor(2), tensor(7), tensor(0), tensor(1), tensor(4), tensor(12), tensor(14), tensor(3), tensor(3), tensor(3), tensor(5), tensor(7), tensor(1), tensor(11), tensor(7), tensor(10), tensor(7), tensor(12), tensor(0), tensor(4), tensor(7), tensor(6), tensor(3), tensor(13), tensor(13), tensor(16), tensor(10), tensor(2), tensor(15), tensor(1), tensor(3), tensor(6), tensor(9), tensor(10), tensor(3), tensor(14), tensor(6), tensor(13), tensor(3), tensor(17), tensor(13), tensor(10), tensor(1), tensor(17), tensor(3), tensor(9), tensor(7), tensor(10), tensor(3), tensor(15), tensor(10), tensor(15), tensor(14), tensor(2), tensor(4), tensor(14), tensor(10), tensor(7), tensor(13), tensor(11), tensor(8), tensor(5), tensor(12), tensor(9), tensor(7), tensor(17), tensor(11), tensor(10), tensor(3), tensor(1), tensor(3), tensor(7), tensor(1), tensor(8), tensor(11), tensor(15), tensor(14), tensor(12), tensor(17), tensor(17), tensor(13), tensor(7), tensor(10), tensor(3), tensor(7), tensor(4), tensor(9), tensor(7), tensor(2), tensor(4), tensor(14), tensor(8), tensor(6), tensor(13), tensor(3), tensor(4), tensor(0), tensor(6), tensor(5), tensor(10), tensor(1), tensor(12), tensor(13), tensor(12), tensor(17), tensor(4), tensor(14), tensor(2), tensor(16), tensor(1), tensor(0), tensor(9), tensor(2), tensor(3), tensor(3), tensor(17), tensor(12), tensor(15), tensor(17), tensor(6), tensor(16), tensor(17), tensor(3), tensor(8), tensor(16), tensor(12), tensor(16), tensor(10), tensor(3), tensor(1), tensor(16), tensor(13), tensor(16), tensor(5), tensor(15), tensor(8), tensor(14), tensor(6), tensor(15), tensor(8), tensor(9), tensor(0), tensor(16), tensor(0), tensor(9), tensor(14), tensor(0), tensor(14), tensor(17), tensor(1), tensor(12), tensor(0), tensor(12), tensor(7), tensor(6), tensor(11), tensor(7), tensor(13), tensor(7), tensor(0), tensor(11), tensor(12), tensor(9), tensor(9), tensor(3), tensor(10), tensor(3), tensor(12), tensor(11), tensor(4), tensor(11), tensor(14), tensor(8), tensor(15), tensor(7), tensor(17), tensor(17), tensor(6), tensor(14), tensor(8), tensor(13), tensor(9), tensor(1), tensor(10), tensor(13), tensor(9), tensor(11), tensor(16), tensor(14), tensor(12), tensor(8), tensor(3), tensor(7), tensor(8), tensor(16), tensor(12), tensor(10), tensor(16), tensor(15), tensor(16), tensor(16), tensor(0), tensor(3), tensor(1), tensor(6), tensor(5), tensor(4), tensor(8), tensor(12), tensor(17), tensor(13), tensor(11), tensor(14), tensor(1), tensor(17), tensor(10), tensor(17), tensor(8), tensor(6), tensor(0), tensor(14), tensor(3), tensor(4), tensor(11), tensor(8), tensor(9), tensor(17), tensor(8), tensor(7), tensor(2), tensor(9), tensor(15), tensor(8), tensor(2), tensor(11), tensor(11), tensor(2), tensor(12), tensor(9), tensor(3), tensor(15), tensor(0), tensor(3), tensor(3), tensor(8), tensor(7), tensor(7), tensor(10), tensor(12), tensor(9), tensor(12), tensor(6), tensor(13), tensor(11), tensor(11), tensor(1), tensor(12), tensor(9), tensor(7), tensor(0), tensor(5), tensor(15), tensor(14), tensor(4), tensor(6), tensor(8), tensor(7), tensor(10), tensor(7), tensor(14), tensor(14), tensor(1), tensor(0), tensor(11), tensor(1), tensor(5), tensor(4), tensor(15), tensor(5), tensor(7), tensor(7), tensor(5), tensor(4), tensor(5), tensor(13), tensor(13), tensor(6), tensor(0), tensor(7), tensor(3), tensor(11), tensor(7), tensor(8), tensor(2), tensor(0), tensor(7), tensor(7), tensor(12), tensor(3), tensor(3), tensor(17), tensor(3), tensor(11), tensor(17), tensor(5), tensor(6), tensor(3), tensor(8), tensor(1), tensor(5), tensor(9), tensor(14), tensor(15), tensor(13), tensor(11), tensor(8), tensor(3), tensor(10), tensor(2), tensor(14), tensor(6), tensor(15), tensor(12), tensor(10), tensor(9), tensor(5), tensor(13), tensor(12), tensor(2), tensor(11), tensor(13), tensor(3), tensor(1), tensor(15), tensor(7), tensor(11), tensor(15), tensor(5), tensor(13), tensor(15), tensor(3), tensor(6), tensor(16), tensor(4), tensor(2), tensor(14), tensor(7), tensor(8), tensor(5), tensor(3), tensor(15), tensor(5), tensor(16), tensor(12), tensor(2), tensor(14), tensor(2), tensor(0), tensor(12), tensor(8), tensor(17), tensor(10), tensor(1), tensor(7), tensor(8), tensor(4), tensor(10), tensor(17), tensor(16), tensor(2), tensor(4), tensor(7), tensor(3), tensor(10), tensor(12), tensor(4), tensor(8), tensor(15), tensor(11), tensor(6), tensor(3), tensor(7), tensor(7), tensor(17), tensor(12), tensor(7), tensor(7), tensor(2), tensor(8), tensor(3), tensor(12), tensor(8), tensor(6), tensor(0), tensor(17), tensor(5), tensor(8), tensor(5), tensor(7), tensor(6), tensor(0), tensor(2), tensor(16), tensor(8), tensor(11), tensor(7), tensor(16), tensor(15), tensor(3), tensor(13), tensor(2), tensor(15), tensor(7), tensor(13), tensor(9), tensor(3), tensor(16), tensor(0)]\n",
      "tensor([1, 6, 7,  ..., 6, 6, 8])\n"
     ]
    }
   ],
   "source": [
    "print((model.metrics[list(model.metrics.keys())[-1]]['trainMetrics']['preds'] != 7).sum())\n",
    "print(trainDataset.y)\n",
    "print(model.metrics[list(model.metrics.keys())[-1]]['trainMetrics']['preds'])"
   ]
  },
  {
   "cell_type": "code",
   "execution_count": 15,
   "metadata": {},
   "outputs": [
    {
     "data": {
      "image/png": "[encoded data removed]",
      "text/plain": [
       "<Figure size 640x480 with 1 Axes>"
      ]
     },
     "metadata": {},
     "output_type": "display_data"
    }
   ],
   "source": [
    "plt.plot([ model.metrics[epoch]['trainMetrics']['loss'] for epoch in model.metrics ])\n",
    "plt.show()"
   ]
  },
  {
   "cell_type": "code",
   "execution_count": 16,
   "metadata": {},
   "outputs": [],
   "source": [
    "import pickle \n",
    "\n",
    "pickle.dump(model.metrics, open('metrics.pkl', 'wb'))"
   ]
  },
  {
   "cell_type": "code",
   "execution_count": 23,
   "metadata": {},
   "outputs": [],
   "source": [
    "testDataset = DrivingDataset.DrivingDataset('test_video', split='test')"
   ]
  },
  {
   "cell_type": "code",
   "execution_count": 20,
   "metadata": {},
   "outputs": [],
   "source": [
    "testMetrics = model.evaluate(testDataset)"
   ]
  },
  {
   "cell_type": "code",
   "execution_count": 22,
   "metadata": {},
   "outputs": [
    {
     "name": "stdout",
     "output_type": "stream",
     "text": [
      "              precision    recall  f1-score   support\n",
      "\n",
      "           0       0.00      0.00      0.00       102\n",
      "           1       0.09      0.07      0.08        94\n",
      "           2       0.00      0.00      0.00       101\n",
      "           3       0.00      0.00      0.00       145\n",
      "           4       0.00      0.00      0.00        78\n",
      "           5       0.00      0.00      0.00        90\n",
      "           6       0.10      0.99      0.18       120\n",
      "           7       0.07      0.17      0.10       146\n",
      "           8       0.01      0.03      0.01       155\n",
      "           9       0.00      0.00      0.00       114\n",
      "          10       0.00      0.00      0.00       139\n",
      "          11       0.00      0.00      0.00       142\n",
      "          12       0.00      0.00      0.00       126\n",
      "          13       0.00      0.00      0.00        91\n",
      "          14       0.00      0.00      0.00       123\n",
      "          15       0.00      0.00      0.00       110\n",
      "          16       0.00      0.00      0.00        94\n",
      "          17       0.00      0.00      0.00       124\n",
      "\n",
      "    accuracy                           0.07      2094\n",
      "   macro avg       0.01      0.07      0.02      2094\n",
      "weighted avg       0.01      0.07      0.02      2094\n",
      "\n"
     ]
    }
   ],
   "source": [
    "print(testMetrics['report'])"
   ]
  }
 ],
 "metadata": {
  "kernelspec": {
   "display_name": "Python 3",
   "language": "python",
   "name": "python3"
  },
  "language_info": {
   "codemirror_mode": {
    "name": "ipython",
    "version": 3
   },
   "file_extension": ".py",
   "mimetype": "text/x-python",
   "name": "python",
   "nbconvert_exporter": "python",
   "pygments_lexer": "ipython3",
   "version": "3.11.6"
  }
 },
 "nbformat": 4,
 "nbformat_minor": 2
}

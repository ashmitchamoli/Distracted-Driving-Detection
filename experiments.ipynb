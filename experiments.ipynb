{
 "cells": [
  {
   "cell_type": "code",
   "execution_count": 2,
   "metadata": {},
   "outputs": [],
   "source": [
    "%load_ext autoreload\n",
    "%autoreload 2"
   ]
  },
  {
   "cell_type": "code",
   "execution_count": 3,
   "metadata": {},
   "outputs": [
    {
     "data": {
      "text/html": [
       "<div>\n",
       "<style scoped>\n",
       "    .dataframe tbody tr th:only-of-type {\n",
       "        vertical-align: middle;\n",
       "    }\n",
       "\n",
       "    .dataframe tbody tr th {\n",
       "        vertical-align: top;\n",
       "    }\n",
       "\n",
       "    .dataframe thead th {\n",
       "        text-align: right;\n",
       "    }\n",
       "</style>\n",
       "<table border=\"1\" class=\"dataframe\">\n",
       "  <thead>\n",
       "    <tr style=\"text-align: right;\">\n",
       "      <th></th>\n",
       "      <th>SG</th>\n",
       "      <th>imageEmbedding</th>\n",
       "      <th>label</th>\n",
       "    </tr>\n",
       "  </thead>\n",
       "  <tbody>\n",
       "    <tr>\n",
       "      <th>../Datasets/annotatedvideosv1/AnnotatedVideos/Dashboard_user_id_24026_3/0_10_10.jpg</th>\n",
       "      <td>[(x, [tensor([1.]), tensor([1.]), tensor([1.])...</td>\n",
       "      <td>[tensor(-1.7838), tensor(-2.0414), tensor(-0.1...</td>\n",
       "      <td>10.0</td>\n",
       "    </tr>\n",
       "    <tr>\n",
       "      <th>../Datasets/annotatedvideosv1/AnnotatedVideos/Dashboard_user_id_24026_3/0_12_10.jpg</th>\n",
       "      <td>[(x, [tensor([1.]), tensor([1.]), tensor([1.])...</td>\n",
       "      <td>[tensor(-2.3162), tensor(-2.5314), tensor(0.62...</td>\n",
       "      <td>10.0</td>\n",
       "    </tr>\n",
       "    <tr>\n",
       "      <th>../Datasets/annotatedvideosv1/AnnotatedVideos/Dashboard_user_id_24026_3/0_13_10.jpg</th>\n",
       "      <td>[(x, [tensor([1.]), tensor([1.]), tensor([1.])...</td>\n",
       "      <td>[tensor(-2.5796), tensor(-2.5256), tensor(0.30...</td>\n",
       "      <td>10.0</td>\n",
       "    </tr>\n",
       "    <tr>\n",
       "      <th>../Datasets/annotatedvideosv1/AnnotatedVideos/Dashboard_user_id_24026_3/0_15_10.jpg</th>\n",
       "      <td>[(x, [tensor([1.]), tensor([1.]), tensor([1.])...</td>\n",
       "      <td>[tensor(-2.5357), tensor(-2.8446), tensor(0.49...</td>\n",
       "      <td>10.0</td>\n",
       "    </tr>\n",
       "    <tr>\n",
       "      <th>../Datasets/annotatedvideosv1/AnnotatedVideos/Dashboard_user_id_24026_3/0_16_10.jpg</th>\n",
       "      <td>[(x, [tensor([1.]), tensor([1.]), tensor([1.])...</td>\n",
       "      <td>[tensor(-2.4762), tensor(-2.1425), tensor(0.54...</td>\n",
       "      <td>10.0</td>\n",
       "    </tr>\n",
       "    <tr>\n",
       "      <th>...</th>\n",
       "      <td>...</td>\n",
       "      <td>...</td>\n",
       "      <td>...</td>\n",
       "    </tr>\n",
       "    <tr>\n",
       "      <th>../Datasets/annotatedvideosv1/AnnotatedVideos/Dashboard_user_id_49381_0/8_45_2.0.jpg</th>\n",
       "      <td>[(x, [tensor([1.]), tensor([1.]), tensor([1.])...</td>\n",
       "      <td>[tensor(-2.8514), tensor(-2.1637), tensor(-0.8...</td>\n",
       "      <td>2.0</td>\n",
       "    </tr>\n",
       "    <tr>\n",
       "      <th>../Datasets/annotatedvideosv1/AnnotatedVideos/Dashboard_user_id_49381_0/8_46_2.0.jpg</th>\n",
       "      <td>[(x, [tensor([1.]), tensor([1.]), tensor([1.])...</td>\n",
       "      <td>[tensor(-2.6687), tensor(-2.0514), tensor(-0.8...</td>\n",
       "      <td>2.0</td>\n",
       "    </tr>\n",
       "    <tr>\n",
       "      <th>../Datasets/annotatedvideosv1/AnnotatedVideos/Dashboard_user_id_49381_0/8_4_11.0.jpg</th>\n",
       "      <td>[(x, [tensor([1.]), tensor([1.]), tensor([1.])...</td>\n",
       "      <td>[tensor(-1.7615), tensor(-2.5725), tensor(-0.3...</td>\n",
       "      <td>11.0</td>\n",
       "    </tr>\n",
       "    <tr>\n",
       "      <th>../Datasets/annotatedvideosv1/AnnotatedVideos/Dashboard_user_id_49381_0/8_5_11.0.jpg</th>\n",
       "      <td>[(x, [tensor([1.]), tensor([1.]), tensor([1.])...</td>\n",
       "      <td>[tensor(-1.9809), tensor(-2.5616), tensor(-0.0...</td>\n",
       "      <td>11.0</td>\n",
       "    </tr>\n",
       "    <tr>\n",
       "      <th>../Datasets/annotatedvideosv1/AnnotatedVideos/Dashboard_user_id_49381_0/8_8_11.0.jpg</th>\n",
       "      <td>[(x, [tensor([1.]), tensor([1.]), tensor([1.])...</td>\n",
       "      <td>[tensor(-2.0313), tensor(-2.4046), tensor(0.19...</td>\n",
       "      <td>11.0</td>\n",
       "    </tr>\n",
       "  </tbody>\n",
       "</table>\n",
       "<p>1120 rows × 3 columns</p>\n",
       "</div>"
      ],
      "text/plain": [
       "                                                                                                   SG  ... label\n",
       "../Datasets/annotatedvideosv1/AnnotatedVideos/D...  [(x, [tensor([1.]), tensor([1.]), tensor([1.])...  ...  10.0\n",
       "../Datasets/annotatedvideosv1/AnnotatedVideos/D...  [(x, [tensor([1.]), tensor([1.]), tensor([1.])...  ...  10.0\n",
       "../Datasets/annotatedvideosv1/AnnotatedVideos/D...  [(x, [tensor([1.]), tensor([1.]), tensor([1.])...  ...  10.0\n",
       "../Datasets/annotatedvideosv1/AnnotatedVideos/D...  [(x, [tensor([1.]), tensor([1.]), tensor([1.])...  ...  10.0\n",
       "../Datasets/annotatedvideosv1/AnnotatedVideos/D...  [(x, [tensor([1.]), tensor([1.]), tensor([1.])...  ...  10.0\n",
       "...                                                                                               ...  ...   ...\n",
       "../Datasets/annotatedvideosv1/AnnotatedVideos/D...  [(x, [tensor([1.]), tensor([1.]), tensor([1.])...  ...   2.0\n",
       "../Datasets/annotatedvideosv1/AnnotatedVideos/D...  [(x, [tensor([1.]), tensor([1.]), tensor([1.])...  ...   2.0\n",
       "../Datasets/annotatedvideosv1/AnnotatedVideos/D...  [(x, [tensor([1.]), tensor([1.]), tensor([1.])...  ...  11.0\n",
       "../Datasets/annotatedvideosv1/AnnotatedVideos/D...  [(x, [tensor([1.]), tensor([1.]), tensor([1.])...  ...  11.0\n",
       "../Datasets/annotatedvideosv1/AnnotatedVideos/D...  [(x, [tensor([1.]), tensor([1.]), tensor([1.])...  ...  11.0\n",
       "\n",
       "[1120 rows x 3 columns]"
      ]
     },
     "execution_count": 3,
     "metadata": {},
     "output_type": "execute_result"
    }
   ],
   "source": [
    "from lib.dataset import DrivingDataset\n",
    "\n",
    "trainDataset = DrivingDataset(videoName='ALL', split='train')\n",
    "trainDataset.data"
   ]
  },
  {
   "cell_type": "code",
   "execution_count": 4,
   "metadata": {},
   "outputs": [],
   "source": [
    "testDataset = DrivingDataset(videoName='ALL', split='test')\n",
    "devDataset = DrivingDataset(videoName='ALL', split='dev')"
   ]
  },
  {
   "cell_type": "code",
   "execution_count": 17,
   "metadata": {},
   "outputs": [
    {
     "name": "stderr",
     "output_type": "stream",
     "text": [
      "Training: 100%|██████████| 1120/1120 [00:11<00:00, 101.48it/s]\n"
     ]
    },
    {
     "name": "stdout",
     "output_type": "stream",
     "text": [
      "Epoch 1 | Train loss: 2.929793 | Dev loss: 2.905300 | Dev accuracy: 0.086\n",
      "Model saved at epoch 0\n",
      "Computing train metrics...\n"
     ]
    },
    {
     "name": "stderr",
     "output_type": "stream",
     "text": [
      "Training: 100%|██████████| 1120/1120 [00:10<00:00, 102.26it/s]\n"
     ]
    },
    {
     "name": "stdout",
     "output_type": "stream",
     "text": [
      "Epoch 2 | Train loss: 2.918975 | Dev loss: 2.912911 | Dev accuracy: 0.040\n"
     ]
    },
    {
     "name": "stderr",
     "output_type": "stream",
     "text": [
      "Training: 100%|██████████| 1120/1120 [00:11<00:00, 100.39it/s]\n"
     ]
    },
    {
     "name": "stdout",
     "output_type": "stream",
     "text": [
      "Epoch 3 | Train loss: 2.912233 | Dev loss: 2.914514 | Dev accuracy: 0.040\n"
     ]
    },
    {
     "name": "stderr",
     "output_type": "stream",
     "text": [
      "Training: 100%|██████████| 1120/1120 [00:11<00:00, 101.06it/s]\n"
     ]
    },
    {
     "name": "stdout",
     "output_type": "stream",
     "text": [
      "Epoch 4 | Train loss: 2.905600 | Dev loss: 2.907011 | Dev accuracy: 0.067\n"
     ]
    },
    {
     "name": "stderr",
     "output_type": "stream",
     "text": [
      "Training: 100%|██████████| 1120/1120 [00:11<00:00, 99.80it/s] \n"
     ]
    },
    {
     "name": "stdout",
     "output_type": "stream",
     "text": [
      "Epoch 5 | Train loss: 2.907127 | Dev loss: 2.921744 | Dev accuracy: 0.059\n"
     ]
    },
    {
     "name": "stderr",
     "output_type": "stream",
     "text": [
      "Training: 100%|██████████| 1120/1120 [00:11<00:00, 100.88it/s]\n"
     ]
    },
    {
     "name": "stdout",
     "output_type": "stream",
     "text": [
      "Epoch 6 | Train loss: 2.911364 | Dev loss: 2.903798 | Dev accuracy: 0.059\n",
      "Model saved at epoch 5\n",
      "Computing train metrics...\n"
     ]
    },
    {
     "name": "stderr",
     "output_type": "stream",
     "text": [
      "Training: 100%|██████████| 1120/1120 [00:10<00:00, 102.16it/s]\n"
     ]
    },
    {
     "name": "stdout",
     "output_type": "stream",
     "text": [
      "Epoch 7 | Train loss: 2.903405 | Dev loss: 2.896013 | Dev accuracy: 0.067\n"
     ]
    },
    {
     "name": "stderr",
     "output_type": "stream",
     "text": [
      "Training: 100%|██████████| 1120/1120 [00:11<00:00, 100.37it/s]\n"
     ]
    },
    {
     "name": "stdout",
     "output_type": "stream",
     "text": [
      "Epoch 8 | Train loss: 2.904679 | Dev loss: 2.906126 | Dev accuracy: 0.059\n"
     ]
    },
    {
     "name": "stderr",
     "output_type": "stream",
     "text": [
      "Training: 100%|██████████| 1120/1120 [00:11<00:00, 101.32it/s]\n"
     ]
    },
    {
     "name": "stdout",
     "output_type": "stream",
     "text": [
      "Epoch 9 | Train loss: 2.908600 | Dev loss: 2.915216 | Dev accuracy: 0.040\n"
     ]
    },
    {
     "name": "stderr",
     "output_type": "stream",
     "text": [
      "Training: 100%|██████████| 1120/1120 [00:11<00:00, 100.97it/s]\n"
     ]
    },
    {
     "name": "stdout",
     "output_type": "stream",
     "text": [
      "Epoch 10 | Train loss: 2.903456 | Dev loss: 2.904829 | Dev accuracy: 0.059\n"
     ]
    },
    {
     "name": "stderr",
     "output_type": "stream",
     "text": [
      "Training: 100%|██████████| 1120/1120 [00:11<00:00, 100.67it/s]\n"
     ]
    },
    {
     "name": "stdout",
     "output_type": "stream",
     "text": [
      "Epoch 11 | Train loss: 2.903665 | Dev loss: 2.905872 | Dev accuracy: 0.067\n",
      "Model saved at epoch 10\n",
      "Computing train metrics...\n"
     ]
    },
    {
     "name": "stderr",
     "output_type": "stream",
     "text": [
      "Training: 100%|██████████| 1120/1120 [00:11<00:00, 100.40it/s]\n"
     ]
    },
    {
     "name": "stdout",
     "output_type": "stream",
     "text": [
      "Epoch 12 | Train loss: 2.903302 | Dev loss: 2.898805 | Dev accuracy: 0.067\n"
     ]
    },
    {
     "name": "stderr",
     "output_type": "stream",
     "text": [
      "Training: 100%|██████████| 1120/1120 [00:11<00:00, 97.11it/s] \n"
     ]
    },
    {
     "name": "stdout",
     "output_type": "stream",
     "text": [
      "Epoch 13 | Train loss: 2.901802 | Dev loss: 2.919095 | Dev accuracy: 0.059\n"
     ]
    },
    {
     "name": "stderr",
     "output_type": "stream",
     "text": [
      "Training: 100%|██████████| 1120/1120 [00:11<00:00, 96.42it/s] \n"
     ]
    },
    {
     "name": "stdout",
     "output_type": "stream",
     "text": [
      "Epoch 14 | Train loss: 2.902809 | Dev loss: 2.912723 | Dev accuracy: 0.059\n"
     ]
    },
    {
     "name": "stderr",
     "output_type": "stream",
     "text": [
      "Training: 100%|██████████| 1120/1120 [00:11<00:00, 93.99it/s] \n"
     ]
    },
    {
     "name": "stdout",
     "output_type": "stream",
     "text": [
      "Epoch 15 | Train loss: 2.902359 | Dev loss: 2.892643 | Dev accuracy: 0.059\n"
     ]
    },
    {
     "name": "stderr",
     "output_type": "stream",
     "text": [
      "Training: 100%|██████████| 1120/1120 [00:12<00:00, 90.00it/s]\n"
     ]
    },
    {
     "name": "stdout",
     "output_type": "stream",
     "text": [
      "Epoch 16 | Train loss: 2.902924 | Dev loss: 2.905970 | Dev accuracy: 0.040\n",
      "Model saved at epoch 15\n",
      "Computing train metrics...\n"
     ]
    },
    {
     "name": "stderr",
     "output_type": "stream",
     "text": [
      "Training: 100%|██████████| 1120/1120 [00:11<00:00, 95.60it/s] \n"
     ]
    },
    {
     "name": "stdout",
     "output_type": "stream",
     "text": [
      "Epoch 17 | Train loss: 2.901508 | Dev loss: 2.911744 | Dev accuracy: 0.040\n"
     ]
    },
    {
     "name": "stderr",
     "output_type": "stream",
     "text": [
      "Training: 100%|██████████| 1120/1120 [00:12<00:00, 93.33it/s] \n"
     ]
    },
    {
     "name": "stdout",
     "output_type": "stream",
     "text": [
      "Epoch 18 | Train loss: 2.902193 | Dev loss: 2.908398 | Dev accuracy: 0.054\n"
     ]
    },
    {
     "name": "stderr",
     "output_type": "stream",
     "text": [
      "Training: 100%|██████████| 1120/1120 [00:12<00:00, 92.88it/s] \n"
     ]
    },
    {
     "name": "stdout",
     "output_type": "stream",
     "text": [
      "Epoch 19 | Train loss: 2.901253 | Dev loss: 2.899208 | Dev accuracy: 0.059\n"
     ]
    },
    {
     "name": "stderr",
     "output_type": "stream",
     "text": [
      "Training: 100%|██████████| 1120/1120 [00:13<00:00, 86.08it/s] \n"
     ]
    },
    {
     "name": "stdout",
     "output_type": "stream",
     "text": [
      "Epoch 20 | Train loss: 2.899005 | Dev loss: 2.933799 | Dev accuracy: 0.040\n"
     ]
    },
    {
     "name": "stderr",
     "output_type": "stream",
     "text": [
      "Training: 100%|██████████| 1120/1120 [00:12<00:00, 89.47it/s] \n"
     ]
    },
    {
     "name": "stdout",
     "output_type": "stream",
     "text": [
      "Epoch 21 | Train loss: 2.900366 | Dev loss: 2.902069 | Dev accuracy: 0.067\n",
      "Model saved at epoch 20\n",
      "Computing train metrics...\n"
     ]
    },
    {
     "name": "stderr",
     "output_type": "stream",
     "text": [
      "Training: 100%|██████████| 1120/1120 [00:12<00:00, 89.84it/s] \n"
     ]
    },
    {
     "name": "stdout",
     "output_type": "stream",
     "text": [
      "Epoch 22 | Train loss: 2.901963 | Dev loss: 2.895467 | Dev accuracy: 0.059\n"
     ]
    },
    {
     "name": "stderr",
     "output_type": "stream",
     "text": [
      "Training: 100%|██████████| 1120/1120 [00:13<00:00, 84.06it/s]\n"
     ]
    },
    {
     "name": "stdout",
     "output_type": "stream",
     "text": [
      "Epoch 23 | Train loss: 2.903147 | Dev loss: 2.908710 | Dev accuracy: 0.040\n"
     ]
    },
    {
     "name": "stderr",
     "output_type": "stream",
     "text": [
      "Training: 100%|██████████| 1120/1120 [00:12<00:00, 91.12it/s]\n"
     ]
    },
    {
     "name": "stdout",
     "output_type": "stream",
     "text": [
      "Epoch 24 | Train loss: 2.901450 | Dev loss: 2.916685 | Dev accuracy: 0.067\n"
     ]
    },
    {
     "name": "stderr",
     "output_type": "stream",
     "text": [
      "Training: 100%|██████████| 1120/1120 [00:13<00:00, 84.56it/s]\n"
     ]
    },
    {
     "name": "stdout",
     "output_type": "stream",
     "text": [
      "Epoch 25 | Train loss: 2.897799 | Dev loss: 2.883164 | Dev accuracy: 0.040\n"
     ]
    },
    {
     "name": "stderr",
     "output_type": "stream",
     "text": [
      "Training: 100%|██████████| 1120/1120 [00:12<00:00, 88.07it/s]\n"
     ]
    },
    {
     "name": "stdout",
     "output_type": "stream",
     "text": [
      "Epoch 26 | Train loss: 2.903427 | Dev loss: 2.915188 | Dev accuracy: 0.040\n",
      "Model saved at epoch 25\n",
      "Computing train metrics...\n"
     ]
    },
    {
     "name": "stderr",
     "output_type": "stream",
     "text": [
      "Training: 100%|██████████| 1120/1120 [00:13<00:00, 85.80it/s]\n"
     ]
    },
    {
     "name": "stdout",
     "output_type": "stream",
     "text": [
      "Epoch 27 | Train loss: 2.901734 | Dev loss: 2.918929 | Dev accuracy: 0.059\n"
     ]
    },
    {
     "name": "stderr",
     "output_type": "stream",
     "text": [
      "Training: 100%|██████████| 1120/1120 [00:12<00:00, 89.02it/s] \n"
     ]
    },
    {
     "name": "stdout",
     "output_type": "stream",
     "text": [
      "Epoch 28 | Train loss: 2.901687 | Dev loss: 2.911786 | Dev accuracy: 0.040\n"
     ]
    },
    {
     "name": "stderr",
     "output_type": "stream",
     "text": [
      "Training: 100%|██████████| 1120/1120 [00:12<00:00, 91.27it/s]\n"
     ]
    },
    {
     "name": "stdout",
     "output_type": "stream",
     "text": [
      "Epoch 29 | Train loss: 2.901296 | Dev loss: 2.925079 | Dev accuracy: 0.040\n"
     ]
    },
    {
     "name": "stderr",
     "output_type": "stream",
     "text": [
      "Training: 100%|██████████| 1120/1120 [00:12<00:00, 88.42it/s] \n"
     ]
    },
    {
     "name": "stdout",
     "output_type": "stream",
     "text": [
      "Epoch 30 | Train loss: 2.899567 | Dev loss: 2.906956 | Dev accuracy: 0.040\n"
     ]
    },
    {
     "name": "stderr",
     "output_type": "stream",
     "text": [
      "Training: 100%|██████████| 1120/1120 [00:12<00:00, 88.92it/s] \n"
     ]
    },
    {
     "name": "stdout",
     "output_type": "stream",
     "text": [
      "Epoch 31 | Train loss: 2.900120 | Dev loss: 2.910800 | Dev accuracy: 0.040\n",
      "Model saved at epoch 30\n",
      "Computing train metrics...\n"
     ]
    },
    {
     "name": "stderr",
     "output_type": "stream",
     "text": [
      "Training: 100%|██████████| 1120/1120 [00:12<00:00, 92.01it/s] \n"
     ]
    },
    {
     "name": "stdout",
     "output_type": "stream",
     "text": [
      "Epoch 32 | Train loss: 2.903067 | Dev loss: 2.913913 | Dev accuracy: 0.067\n"
     ]
    },
    {
     "name": "stderr",
     "output_type": "stream",
     "text": [
      "Training: 100%|██████████| 1120/1120 [00:12<00:00, 88.40it/s]\n"
     ]
    },
    {
     "name": "stdout",
     "output_type": "stream",
     "text": [
      "Epoch 33 | Train loss: 2.903138 | Dev loss: 2.907365 | Dev accuracy: 0.040\n"
     ]
    },
    {
     "name": "stderr",
     "output_type": "stream",
     "text": [
      "Training: 100%|██████████| 1120/1120 [00:12<00:00, 88.95it/s] \n"
     ]
    },
    {
     "name": "stdout",
     "output_type": "stream",
     "text": [
      "Epoch 34 | Train loss: 2.898669 | Dev loss: 2.913998 | Dev accuracy: 0.040\n"
     ]
    },
    {
     "name": "stderr",
     "output_type": "stream",
     "text": [
      "Training: 100%|██████████| 1120/1120 [00:12<00:00, 87.09it/s] \n"
     ]
    },
    {
     "name": "stdout",
     "output_type": "stream",
     "text": [
      "Epoch 35 | Train loss: 2.897843 | Dev loss: 2.921969 | Dev accuracy: 0.040\n"
     ]
    },
    {
     "name": "stderr",
     "output_type": "stream",
     "text": [
      "Training: 100%|██████████| 1120/1120 [00:13<00:00, 84.40it/s]\n"
     ]
    },
    {
     "name": "stdout",
     "output_type": "stream",
     "text": [
      "Epoch 36 | Train loss: 2.903693 | Dev loss: 2.929494 | Dev accuracy: 0.067\n",
      "Model saved at epoch 35\n",
      "Computing train metrics...\n"
     ]
    },
    {
     "name": "stderr",
     "output_type": "stream",
     "text": [
      "Training: 100%|██████████| 1120/1120 [00:14<00:00, 79.48it/s]\n"
     ]
    },
    {
     "name": "stdout",
     "output_type": "stream",
     "text": [
      "Epoch 37 | Train loss: 2.900920 | Dev loss: 2.902541 | Dev accuracy: 0.059\n"
     ]
    },
    {
     "name": "stderr",
     "output_type": "stream",
     "text": [
      "Training: 100%|██████████| 1120/1120 [00:14<00:00, 79.76it/s]\n"
     ]
    },
    {
     "name": "stdout",
     "output_type": "stream",
     "text": [
      "Epoch 38 | Train loss: 2.902126 | Dev loss: 2.902686 | Dev accuracy: 0.054\n"
     ]
    },
    {
     "name": "stderr",
     "output_type": "stream",
     "text": [
      "Training: 100%|██████████| 1120/1120 [00:13<00:00, 83.19it/s] \n"
     ]
    },
    {
     "name": "stdout",
     "output_type": "stream",
     "text": [
      "Epoch 39 | Train loss: 2.901167 | Dev loss: 2.912123 | Dev accuracy: 0.040\n"
     ]
    },
    {
     "name": "stderr",
     "output_type": "stream",
     "text": [
      "Training: 100%|██████████| 1120/1120 [00:12<00:00, 86.83it/s]\n"
     ]
    },
    {
     "name": "stdout",
     "output_type": "stream",
     "text": [
      "Epoch 40 | Train loss: 2.899367 | Dev loss: 2.911112 | Dev accuracy: 0.051\n"
     ]
    },
    {
     "name": "stderr",
     "output_type": "stream",
     "text": [
      "Training: 100%|██████████| 1120/1120 [00:13<00:00, 84.01it/s] \n"
     ]
    },
    {
     "name": "stdout",
     "output_type": "stream",
     "text": [
      "Epoch 41 | Train loss: 2.900937 | Dev loss: 2.923454 | Dev accuracy: 0.040\n",
      "Model saved at epoch 40\n",
      "Computing train metrics...\n"
     ]
    },
    {
     "name": "stderr",
     "output_type": "stream",
     "text": [
      "Training: 100%|██████████| 1120/1120 [00:12<00:00, 87.67it/s]\n"
     ]
    },
    {
     "name": "stdout",
     "output_type": "stream",
     "text": [
      "Epoch 42 | Train loss: 2.901489 | Dev loss: 2.906924 | Dev accuracy: 0.040\n"
     ]
    },
    {
     "name": "stderr",
     "output_type": "stream",
     "text": [
      "Training: 100%|██████████| 1120/1120 [00:12<00:00, 86.44it/s]\n"
     ]
    },
    {
     "name": "stdout",
     "output_type": "stream",
     "text": [
      "Epoch 43 | Train loss: 2.901887 | Dev loss: 2.901791 | Dev accuracy: 0.040\n"
     ]
    },
    {
     "name": "stderr",
     "output_type": "stream",
     "text": [
      "Training: 100%|██████████| 1120/1120 [00:12<00:00, 87.18it/s]\n"
     ]
    },
    {
     "name": "stdout",
     "output_type": "stream",
     "text": [
      "Epoch 44 | Train loss: 2.900949 | Dev loss: 2.904883 | Dev accuracy: 0.040\n"
     ]
    },
    {
     "name": "stderr",
     "output_type": "stream",
     "text": [
      "Training: 100%|██████████| 1120/1120 [00:13<00:00, 85.45it/s]\n"
     ]
    },
    {
     "name": "stdout",
     "output_type": "stream",
     "text": [
      "Epoch 45 | Train loss: 2.902564 | Dev loss: 2.900199 | Dev accuracy: 0.040\n"
     ]
    },
    {
     "name": "stderr",
     "output_type": "stream",
     "text": [
      "Training: 100%|██████████| 1120/1120 [00:13<00:00, 83.53it/s]\n"
     ]
    },
    {
     "name": "stdout",
     "output_type": "stream",
     "text": [
      "Epoch 46 | Train loss: 2.902889 | Dev loss: 2.916784 | Dev accuracy: 0.040\n",
      "Model saved at epoch 45\n",
      "Computing train metrics...\n"
     ]
    },
    {
     "name": "stderr",
     "output_type": "stream",
     "text": [
      "Training: 100%|██████████| 1120/1120 [00:12<00:00, 92.09it/s] \n"
     ]
    },
    {
     "name": "stdout",
     "output_type": "stream",
     "text": [
      "Epoch 47 | Train loss: 2.902719 | Dev loss: 2.896412 | Dev accuracy: 0.040\n"
     ]
    },
    {
     "name": "stderr",
     "output_type": "stream",
     "text": [
      "Training: 100%|██████████| 1120/1120 [00:12<00:00, 87.81it/s] \n"
     ]
    },
    {
     "name": "stdout",
     "output_type": "stream",
     "text": [
      "Epoch 48 | Train loss: 2.899644 | Dev loss: 2.915600 | Dev accuracy: 0.051\n"
     ]
    },
    {
     "name": "stderr",
     "output_type": "stream",
     "text": [
      "Training: 100%|██████████| 1120/1120 [00:12<00:00, 87.05it/s]\n"
     ]
    },
    {
     "name": "stdout",
     "output_type": "stream",
     "text": [
      "Epoch 49 | Train loss: 2.902699 | Dev loss: 2.910130 | Dev accuracy: 0.040\n"
     ]
    }
   ],
   "source": [
    "from lib.models.pipeline import CombinerModel\n",
    "\n",
    "model = model = CombinerModel(trainDataset.data.iloc[0, 0].num_features,\n",
    "                              sceneGraphEmbeddingSize=64,\n",
    "                              imgEmbeddingSize=trainDataset.imageEmbeddingSize,\n",
    "                              reducedImgEmbeddingSize=trainDataset.imageEmbeddingSize,\n",
    "                              encoderHiddenLayers=[],\n",
    "                              numClasses=trainDataset.numClasses,\n",
    "                              n_peripheralInputs=1,\n",
    "                              feedForwardHiddenLayers=[2048, 1024, 512, 256, 128, 64, 32])\n",
    "\n",
    "model.train(trainDataset, devDataset, epochs=49, lr=0.0005)"
   ]
  }
 ],
 "metadata": {
  "kernelspec": {
   "display_name": "Python 3",
   "language": "python",
   "name": "python3"
  },
  "language_info": {
   "codemirror_mode": {
    "name": "ipython",
    "version": 3
   },
   "file_extension": ".py",
   "mimetype": "text/x-python",
   "name": "python",
   "nbconvert_exporter": "python",
   "pygments_lexer": "ipython3",
   "version": "3.11.6"
  }
 },
 "nbformat": 4,
 "nbformat_minor": 2
}
